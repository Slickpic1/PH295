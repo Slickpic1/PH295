{
 "cells": [
  {
   "cell_type": "code",
   "execution_count": 1,
   "id": "c5277531",
   "metadata": {},
   "outputs": [],
   "source": [
    "#########################################################################\n",
    "# Exercise 2.5\n",
    "# PH 295\n",
    "# Nick Ball\n",
    "#\n",
    "# Purpose: Simple code that calculates the wavevectors k1 & k2 for given\n",
    "#      values of m, E, & V, and also calculates the probabilities for \n",
    "#      transformation and reflection for calculated k1 & k2 values.\n",
    "#\n",
    "#########################################################################"
   ]
  },
  {
   "cell_type": "markdown",
   "id": "2498e8a8",
   "metadata": {},
   "source": [
    "$$  T = \\frac{4 k_1 k_2}{(k_1 + k_2)^2} ,  R = (\\frac{k_1 - k_2}{k_1 + k_2})^2  $$"
   ]
  },
  {
   "cell_type": "markdown",
   "id": "7a599e7e",
   "metadata": {},
   "source": [
    "$$  k_1 = \\frac {\\sqrt{2 m E}} {\\hbar}, k_2 = \\sqrt{2 m (E - V)}   $$"
   ]
  },
  {
   "cell_type": "code",
   "execution_count": 4,
   "id": "2e93bff0",
   "metadata": {},
   "outputs": [],
   "source": [
    "from math import sqrt"
   ]
  },
  {
   "cell_type": "code",
   "execution_count": 5,
   "id": "88cc8b7f",
   "metadata": {},
   "outputs": [
    {
     "name": "stdout",
     "output_type": "stream",
     "text": [
      "T =  8.323114801563171e-16\n",
      "R =  0.9999999999999989\n"
     ]
    }
   ],
   "source": [
    "#Define Vars/ Constants\n",
    "m = 9.11 * 10**-31     #kg\n",
    "E = 10                 #eV\n",
    "V = 9                  #eV\n",
    "h_bar = 6.58*10**-16   #eV*s\n",
    "\n",
    "#Calculate waveform vectors k_1 and k_2\n",
    "k_1 = sqrt(2*m*E)/h_bar\n",
    "k_2 = sqrt(2*m*(E-V))\n",
    "\n",
    "#Calculate probabilities of T and R\n",
    "T = (4*k_1*k_2)/(k_1+k_2)**2\n",
    "R = ((k_1-k_2)/(k_1+k_2))**2\n",
    "\n",
    "#Print Results\n",
    "print(\"T = \", T)\n",
    "print(\"R = \", R)"
   ]
  },
  {
   "cell_type": "code",
   "execution_count": null,
   "id": "d4f0d55b",
   "metadata": {},
   "outputs": [],
   "source": []
  }
 ],
 "metadata": {
  "kernelspec": {
   "display_name": "Python 3 (ipykernel)",
   "language": "python",
   "name": "python3"
  },
  "language_info": {
   "codemirror_mode": {
    "name": "ipython",
    "version": 3
   },
   "file_extension": ".py",
   "mimetype": "text/x-python",
   "name": "python",
   "nbconvert_exporter": "python",
   "pygments_lexer": "ipython3",
   "version": "3.9.13"
  }
 },
 "nbformat": 4,
 "nbformat_minor": 5
}
