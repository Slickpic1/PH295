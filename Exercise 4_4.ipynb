{
 "cells": [
  {
   "cell_type": "markdown",
   "id": "eec7da9e",
   "metadata": {},
   "source": [
    "### Exercise 4.4: Calculating Integrals\n",
    "Ph 295  \n",
    "Nick Ball  \n",
    "**Purpose:**\n",
    "Program that calculates the given integral using the Reimann defenition of an integral"
   ]
  },
  {
   "cell_type": "markdown",
   "id": "e4dbcd0a",
   "metadata": {},
   "source": [
    "##### Integral:\n",
    "$$\n",
    "I = \\int_{-1}^{1} \\sqrt{1-x^2}dx\n",
    "$$"
   ]
  },
  {
   "cell_type": "markdown",
   "id": "bdd5683d",
   "metadata": {},
   "source": [
    "##### Reimann Defenition:\n",
    "$$\n",
    "I = \\lim_{N \\to \\inf} \\sum_{k=1}^{N} hy_k\n",
    "$$\n",
    "*where*\n",
    "$$\n",
    "y_k = \\sqrt{1-x_{k}^{2}} \\quad and \\quad x_k = -1 +hk\n",
    "$$"
   ]
  },
  {
   "cell_type": "markdown",
   "id": "8d204ad2",
   "metadata": {},
   "source": [
    "a) Write a program to evaluate the integral above with N = 100 and compare the results (won't agree very well)"
   ]
  },
  {
   "cell_type": "code",
   "execution_count": 1,
   "id": "58dadc8f",
   "metadata": {},
   "outputs": [],
   "source": [
    "#Define Constants\n",
    "N = 100\n",
    "h = 2/N"
   ]
  },
  {
   "cell_type": "code",
   "execution_count": 2,
   "id": "ff1849d3",
   "metadata": {},
   "outputs": [],
   "source": [
    "#Define functions \n",
    "def xk(k):\n",
    "    return (-1+h*k)\n",
    "\n",
    "def yk(k):\n",
    "    return (1-xk(k)**2)**(1/2)\n"
   ]
  },
  {
   "cell_type": "code",
   "execution_count": 3,
   "id": "6775f6a0",
   "metadata": {},
   "outputs": [
    {
     "name": "stdout",
     "output_type": "stream",
     "text": [
      "The value of the Integral is: 1.5691342555492505\n"
     ]
    }
   ],
   "source": [
    "#Calculate integral\n",
    "I = 0\n",
    "for k in range(1,N+1):\n",
    "    I += h*yk(k)\n",
    "print(f'The value of the Integral is: {I}')"
   ]
  },
  {
   "cell_type": "markdown",
   "id": "aa651446",
   "metadata": {},
   "source": [
    "Compared to the true value of $I = \\frac{\\pi}{2} = 1.57079632679$"
   ]
  },
  {
   "cell_type": "markdown",
   "id": "1b9c71df",
   "metadata": {},
   "source": [
    "b) Increase the value of N to get a more accurate value of the integral. If we require the calculation to take  \n",
    "less than one second, how accurate a value can we get?"
   ]
  },
  {
   "cell_type": "code",
   "execution_count": 4,
   "id": "0ceefab1",
   "metadata": {},
   "outputs": [
    {
     "name": "stdout",
     "output_type": "stream",
     "text": [
      "The value of the Integral is: (1.569134304532542+799960394.5943218j)\n",
      "Wall time: 1.06 s\n"
     ]
    }
   ],
   "source": [
    "%%time\n",
    "#Calculate integral w/ larger N\n",
    "I = 0\n",
    "N = 2000000\n",
    "for k in range(1,N+1):\n",
    "    I += h*yk(k)\n",
    "print(f'The value of the Integral is: {I}')"
   ]
  },
  {
   "cell_type": "markdown",
   "id": "61c41110",
   "metadata": {},
   "source": [
    "**Conclusion:**\n",
    "There isn't a lot of difference between $N=100$ and $N=2000000$, which is honestly surprising. Not sure as to why though..."
   ]
  }
 ],
 "metadata": {
  "kernelspec": {
   "display_name": "Python 3 (ipykernel)",
   "language": "python",
   "name": "python3"
  },
  "language_info": {
   "codemirror_mode": {
    "name": "ipython",
    "version": 3
   },
   "file_extension": ".py",
   "mimetype": "text/x-python",
   "name": "python",
   "nbconvert_exporter": "python",
   "pygments_lexer": "ipython3",
   "version": "3.9.13"
  }
 },
 "nbformat": 4,
 "nbformat_minor": 5
}
