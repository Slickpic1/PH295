{
 "cells": [
  {
   "cell_type": "markdown",
   "id": "a629406f",
   "metadata": {},
   "source": [
    "### Exercise 5.3\n",
    "PH 295  \n",
    "Nick Ball  \n",
    "**Purpose:**\n",
    "Program that calculates the integral of a given function from 0 to 3 in steps of 0.1 and \n",
    "creates a graph of the given function."
   ]
  },
  {
   "cell_type": "markdown",
   "id": "93badd98",
   "metadata": {},
   "source": [
    "$$\n",
    "E(x) = \\int_{0}^{x} e^{-x^{2}}dx\n",
    "$$"
   ]
  },
  {
   "cell_type": "markdown",
   "id": "ee6865a3",
   "metadata": {},
   "source": [
    "a) Write a program to calculate $E(x)$ for values of x from 0 to 3 in steps of 0.1"
   ]
  },
  {
   "cell_type": "code",
   "execution_count": 4,
   "id": "809117f1",
   "metadata": {},
   "outputs": [],
   "source": [
    "#Import Libraries\n",
    "import matplotlib.pyplot as plt\n",
    "import math\n",
    "from numpy import *"
   ]
  },
  {
   "cell_type": "code",
   "execution_count": 9,
   "id": "78495d35",
   "metadata": {},
   "outputs": [],
   "source": [
    "#Define Simpson's Integration\n",
    "def simpson(f,N):\n",
    "    if N%2 !=0: \n",
    "        N += 1 # must have an even number of slices\n",
    "    h = (b-a)/N\n",
    "    I = f(a)+f(b)\n",
    "\n",
    "    #Sum of k odd\n",
    "    for k in range(1,int(N/2)+1):     \n",
    "        I += 4*(f(a+(2*k-1)*h))\n",
    "\n",
    "    #Sum of k even\n",
    "    for k in range(1,int(N/2)):\n",
    "        I += 2*(f(a+2*k*h))\n",
    "    \n",
    "    #Multiply end result by h/3\n",
    "    return I*(h/3)"
   ]
  },
  {
   "cell_type": "code",
   "execution_count": 14,
   "id": "bc606395",
   "metadata": {},
   "outputs": [],
   "source": [
    "#Define constans/variables\n",
    "area = list()           #not sure if we need to initialize lists\n",
    "dx = 0.1\n",
    "a = 0\n",
    "N = 1000\n",
    "x = arange(a,3,0.1)\n",
    "\n",
    "def f(x):\n",
    "    return math.e**(-x**2)\n",
    "\n",
    "for b in x:\n",
    "    area.append(simpson(f,N))"
   ]
  },
  {
   "cell_type": "markdown",
   "id": "9fb9181a",
   "metadata": {},
   "source": [
    "b) Once your program is running, make a graph of the function $E(x)$"
   ]
  },
  {
   "cell_type": "code",
   "execution_count": 15,
   "id": "53e970d2",
   "metadata": {},
   "outputs": [
    {
     "data": {
      "image/png": "[encoded data removed]",
      "text/plain": [
       "<Figure size 600x300 with 1 Axes>"
      ]
     },
     "metadata": {},
     "output_type": "display_data"
    }
   ],
   "source": [
    "plt.figure(figsize=(6,3))\n",
    "plt.title(\"E(x) vs. x\")\n",
    "plt.plot(x,area,color='blue')\n",
    "plt.xlim(x[0],x[-1])\n",
    "plt.show()"
   ]
  },
  {
   "cell_type": "markdown",
   "id": "2661d2e8",
   "metadata": {},
   "source": [
    "**Conclusion:**\n",
    "There are a few interesting I learned from this exercise. \n",
    "1) There's an html page of someone who has done most of the assignments for this class here at [here](https://sashabakker.github.io/). I don't plan on using it extensively (if at all) since I do not understand most of the code. Some of it I used for this section because the simplification of the code is something wonderful to behold. \n",
    "  \n",
    "2) You can actually pass functions into other functions as a \"variable\" of sorts. I do not understand the full details of this, but thanks to Sasha Bakker, I now know you can define a function and pass it into any integration method you import or have on hand. I plan to use this in the future for making a integration library that I can reference (because why not). \n",
    "  \n",
    "3) Below I have posted the code of Sasha's Simon's Method. This was by far the most interesting discovery as it uses a weighted calculation to produce the results indstead of a for loop for the summation. I am still not entirely sure as to how it works, but it was something cool to behold nontheless."
   ]
  },
  {
   "cell_type": "code",
   "execution_count": 17,
   "id": "4268a814",
   "metadata": {},
   "outputs": [],
   "source": [
    "\"\"\"\n",
    "Note: This code belongs to Sasha Bakker, not myself. I used some of it as reference to make the simpson's \n",
    "Method more robust than my own (see below), but otherwise used my own code. The usage of the weights here\n",
    "is something I don't understand at all, but would love to.\n",
    "\"\"\"\n",
    "\n",
    "def simpson(f,N):\n",
    "    if N%2 !=0:# I used this error handling as is takes care of cases when N\n",
    "        N += 1 # is not even, something I didn't account for\n",
    "\n",
    "    h = (b-a)/N\n",
    "    x = linspace(a,b,N+1) # number of points is number of slices + 1\n",
    "\n",
    "    weight = 4*ones(N+1) \n",
    "    weight[::2] = 2\n",
    "    weight[0] = 1\n",
    "    weight[-1] = 1\n",
    "\n",
    "    return ((h/3)*sum(weight*f(x)),N)    #How on earth does this work?"
   ]
  }
 ],
 "metadata": {
  "kernelspec": {
   "display_name": "Python 3 (ipykernel)",
   "language": "python",
   "name": "python3"
  },
  "language_info": {
   "codemirror_mode": {
    "name": "ipython",
    "version": 3
   },
   "file_extension": ".py",
   "mimetype": "text/x-python",
   "name": "python",
   "nbconvert_exporter": "python",
   "pygments_lexer": "ipython3",
   "version": "3.9.13"
  }
 },
 "nbformat": 4,
 "nbformat_minor": 5
}
