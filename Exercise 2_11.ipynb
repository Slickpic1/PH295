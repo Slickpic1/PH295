{
 "cells": [
  {
   "cell_type": "markdown",
   "id": "63e9a615",
   "metadata": {},
   "source": [
    "### Exercise 2.11\n",
    "Ph 295  \n",
    "Nick Ball  \n",
    "**Purpose:**\n",
    "Calculates the Binomial Coefficient given an input of n and k and returns it in the  \n",
    "form of an integer."
   ]
  },
  {
   "cell_type": "markdown",
   "id": "5c60a176",
   "metadata": {},
   "source": [
    "$$ \\binom{n}{k} = \\frac{n!}{k!(n-k)!}$$"
   ]
  },
  {
   "cell_type": "markdown",
   "id": "2cc39408",
   "metadata": {},
   "source": [
    "a) Write a user defined function for the binomial coefficient"
   ]
  },
  {
   "cell_type": "code",
   "execution_count": 9,
   "id": "cff7fcf9",
   "metadata": {},
   "outputs": [],
   "source": [
    "#Define functions for factorial and binomial coefficients\n",
    "def factorial(i):\n",
    "    if i==1:\n",
    "        return 1\n",
    "    elif i==0:\n",
    "        return 1\n",
    "    else:\n",
    "        return i*factorial(i-1)\n",
    "\n",
    "def binomial(n,k):\n",
    "    if k == 0:\n",
    "        return 1\n",
    "    else:\n",
    "        binom = int(factorial(n)/(factorial(k)*factorial(n-k)))\n",
    "    return binom"
   ]
  },
  {
   "cell_type": "code",
   "execution_count": 4,
   "id": "674f2fb4",
   "metadata": {},
   "outputs": [
    {
     "name": "stdout",
     "output_type": "stream",
     "text": [
      "Binomial coefficient:  1\n"
     ]
    }
   ],
   "source": [
    "print(\"Binomial coefficient: \", binomial(1,0))"
   ]
  },
  {
   "cell_type": "markdown",
   "id": "92f50ce5",
   "metadata": {},
   "source": [
    "b) Write a program that prints first 20 lines of pascals triangle"
   ]
  },
  {
   "cell_type": "code",
   "execution_count": 4,
   "id": "398737db",
   "metadata": {},
   "outputs": [
    {
     "name": "stdout",
     "output_type": "stream",
     "text": [
      "1 1 \n",
      "1 2 1 \n",
      "1 3 3 1 \n",
      "1 4 6 4 1 \n",
      "1 5 10 10 5 1 \n",
      "1 6 15 20 15 6 1 \n",
      "1 7 21 35 35 21 7 1 \n",
      "1 8 28 56 70 56 28 8 1 \n",
      "1 9 36 84 126 126 84 36 9 1 \n",
      "1 10 45 120 210 252 210 120 45 10 1 \n",
      "1 11 55 165 330 462 462 330 165 55 11 1 \n",
      "1 12 66 220 495 792 924 792 495 220 66 12 1 \n",
      "1 13 78 286 715 1287 1716 1716 1287 715 286 78 13 1 \n",
      "1 14 91 364 1001 2002 3003 3432 3003 2002 1001 364 91 14 1 \n",
      "1 15 105 455 1365 3003 5005 6435 6435 5005 3003 1365 455 105 15 1 \n",
      "1 16 120 560 1820 4368 8008 11440 12870 11440 8008 4368 1820 560 120 16 1 \n",
      "1 17 136 680 2380 6188 12376 19448 24310 24310 19448 12376 6188 2380 680 136 17 1 \n",
      "1 18 153 816 3060 8568 18564 31824 43758 48620 43758 31824 18564 8568 3060 816 153 18 1 \n",
      "1 19 171 969 3876 11628 27132 50388 75582 92378 92378 75582 50388 27132 11628 3876 969 171 19 1 \n",
      "1 20 190 1140 4845 15504 38760 77520 125970 167960 184756 167960 125970 77520 38760 15504 4845 1140 190 20 1 \n"
     ]
    }
   ],
   "source": [
    "for n in range(1,21):\n",
    "    for k in range(n+1):\n",
    "        print(binomial(n,k),end=\" \")\n",
    "    print(\"\")"
   ]
  },
  {
   "cell_type": "markdown",
   "id": "8e42d900",
   "metadata": {},
   "source": [
    "$$ P = \\frac{\\binom{n}{k}}{2^n} $$"
   ]
  },
  {
   "cell_type": "markdown",
   "id": "22f2c94c",
   "metadata": {},
   "source": [
    "c) Write a program to calculate the total probability of coin coming up heads:  \n",
    "&nbsp;&nbsp;&nbsp;&nbsp;1) 60 times out of 100"
   ]
  },
  {
   "cell_type": "code",
   "execution_count": 12,
   "id": "54f784e8",
   "metadata": {},
   "outputs": [
    {
     "name": "stdout",
     "output_type": "stream",
     "text": [
      "Probability = 1.08%\n"
     ]
    }
   ],
   "source": [
    "P = binomial(100,60)/(2**100)\n",
    "print(f'Probability = {P*100:.3}%')"
   ]
  },
  {
   "cell_type": "markdown",
   "id": "1009b99d",
   "metadata": {},
   "source": [
    "&nbsp;&nbsp;&nbsp;&nbsp;2) 60 or more times"
   ]
  },
  {
   "cell_type": "code",
   "execution_count": 14,
   "id": "169926f7",
   "metadata": {},
   "outputs": [
    {
     "name": "stdout",
     "output_type": "stream",
     "text": [
      "Probability = 2.84%\n"
     ]
    }
   ],
   "source": [
    "probability = []\n",
    "for k in range(60,101):\n",
    "    probability.append(binomial(100,k)/(2**100))\n",
    "    \n",
    "print(f'Probability = {sum(probability)*100:.3}%')"
   ]
  }
 ],
 "metadata": {
  "kernelspec": {
   "display_name": "Python 3 (ipykernel)",
   "language": "python",
   "name": "python3"
  },
  "language_info": {
   "codemirror_mode": {
    "name": "ipython",
    "version": 3
   },
   "file_extension": ".py",
   "mimetype": "text/x-python",
   "name": "python",
   "nbconvert_exporter": "python",
   "pygments_lexer": "ipython3",
   "version": "3.9.13"
  }
 },
 "nbformat": 4,
 "nbformat_minor": 5
}
