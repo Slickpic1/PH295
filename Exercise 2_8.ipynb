{
 "cells": [
  {
   "cell_type": "markdown",
   "id": "8d103233",
   "metadata": {},
   "source": [
    "### Exercise 2.8\n",
    "PH 295  \n",
    "Nick Ball  \n",
    "**Purpose:**\n",
    "Simple program to test functionality of arrays"
   ]
  },
  {
   "cell_type": "code",
   "execution_count": 1,
   "id": "2a188594",
   "metadata": {},
   "outputs": [],
   "source": [
    "from numpy import array"
   ]
  },
  {
   "cell_type": "code",
   "execution_count": 11,
   "id": "e4e4b122",
   "metadata": {},
   "outputs": [],
   "source": [
    "a = array([1,2,3,4],int)\n",
    "b = array([2,4,6,8],int)"
   ]
  },
  {
   "cell_type": "markdown",
   "id": "08ef9a92",
   "metadata": {},
   "source": [
    "a)`print(b/a+1)` from this i expect it to do b/a, then add 1"
   ]
  },
  {
   "cell_type": "code",
   "execution_count": 13,
   "id": "ad8c2df8",
   "metadata": {},
   "outputs": [
    {
     "name": "stdout",
     "output_type": "stream",
     "text": [
      "[3. 3. 3. 3.]\n"
     ]
    }
   ],
   "source": [
    "print(b/a+1)"
   ]
  },
  {
   "cell_type": "markdown",
   "id": "bf718102",
   "metadata": {},
   "source": [
    "b)`print(b/(a+1))` from this I expect a+1 to go first, then to divide by b"
   ]
  },
  {
   "cell_type": "code",
   "execution_count": 14,
   "id": "b11401da",
   "metadata": {
    "scrolled": true
   },
   "outputs": [
    {
     "name": "stdout",
     "output_type": "stream",
     "text": [
      "[1.         1.33333333 1.5        1.6       ]\n"
     ]
    }
   ],
   "source": [
    "print(b/(a+1))"
   ]
  },
  {
   "cell_type": "markdown",
   "id": "1e44b23d",
   "metadata": {},
   "source": [
    "c)`print(1/a)` from this I expect happiness and \\$100"
   ]
  },
  {
   "cell_type": "code",
   "execution_count": 15,
   "id": "dfbeb3ac",
   "metadata": {},
   "outputs": [
    {
     "name": "stdout",
     "output_type": "stream",
     "text": [
      "[1.         0.5        0.33333333 0.25      ]\n"
     ]
    }
   ],
   "source": [
    "print(1/a)"
   ]
  },
  {
   "cell_type": "markdown",
   "id": "0627f8d7",
   "metadata": {},
   "source": [
    "still not happy :("
   ]
  }
 ],
 "metadata": {
  "kernelspec": {
   "display_name": "Python 3 (ipykernel)",
   "language": "python",
   "name": "python3"
  },
  "language_info": {
   "codemirror_mode": {
    "name": "ipython",
    "version": 3
   },
   "file_extension": ".py",
   "mimetype": "text/x-python",
   "name": "python",
   "nbconvert_exporter": "python",
   "pygments_lexer": "ipython3",
   "version": "3.9.13"
  }
 },
 "nbformat": 4,
 "nbformat_minor": 5
}
