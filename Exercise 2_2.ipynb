{
 "cells": [
  {
   "cell_type": "markdown",
   "id": "f94039e5",
   "metadata": {},
   "source": [
    "#### Exercise 2.2\n",
    "PH 295  \n",
    "Nick Ball  \n",
    "**Purpose:**\n",
    " Ask user for desired orbital period T and calculate and print correct altitude in meters."
   ]
  },
  {
   "cell_type": "markdown",
   "id": "36dc4a6b",
   "metadata": {},
   "source": [
    "$$ h = \\sqrt[3]{\\frac{G M T^2}{4 \\pi^2}}-R_E $$"
   ]
  },
  {
   "cell_type": "code",
   "execution_count": 1,
   "id": "7d52b63b",
   "metadata": {},
   "outputs": [],
   "source": [
    "from math import pi"
   ]
  },
  {
   "cell_type": "code",
   "execution_count": 4,
   "id": "2088e789",
   "metadata": {},
   "outputs": [],
   "source": [
    "#Define vars & consts\n",
    "G = 6.67*10**-11         #m^3/kgs^2\n",
    "M = 5.97*10**24          #kg\n",
    "R = 6371000              #m"
   ]
  },
  {
   "cell_type": "code",
   "execution_count": 15,
   "id": "d80deb54",
   "metadata": {},
   "outputs": [],
   "source": [
    "#Define function for repeat use\n",
    "def altitude(T):\n",
    "    #Ask user for desired orbital period in seconds\n",
    "    #T = float(input(\"Input orbital period in seconds: \"))\n",
    "\n",
    "    #Calculate and display height\n",
    "    h = -R + ((G*M*T**2)/(4*pi**2))**(1/3)\n",
    "    #print(\"Orbital height: \", h, \"m\")\n",
    "    \n",
    "    return h"
   ]
  },
  {
   "cell_type": "markdown",
   "id": "b6f1ef8f",
   "metadata": {},
   "source": [
    "c) Calculate the altitude of satellites that orbit with period of 90 mins and 45 mins"
   ]
  },
  {
   "cell_type": "code",
   "execution_count": 6,
   "id": "9bc85b67",
   "metadata": {},
   "outputs": [
    {
     "name": "stdout",
     "output_type": "stream",
     "text": [
      "Input orbital period in seconds: 5400\n",
      "Orbital height:  279321.62537285965 m\n"
     ]
    }
   ],
   "source": [
    "altitude()"
   ]
  },
  {
   "cell_type": "code",
   "execution_count": 7,
   "id": "76b12309",
   "metadata": {},
   "outputs": [
    {
     "name": "stdout",
     "output_type": "stream",
     "text": [
      "Input orbital period in seconds: 2700\n",
      "Orbital height:  -2181559.8978108233 m\n"
     ]
    }
   ],
   "source": [
    "altitude()"
   ]
  },
  {
   "cell_type": "markdown",
   "id": "510c87cc",
   "metadata": {},
   "source": [
    "d) How much difference is there between an orbital period of 24 hours and 23.93 hours?"
   ]
  },
  {
   "cell_type": "code",
   "execution_count": 16,
   "id": "61c2e324",
   "metadata": {},
   "outputs": [
    {
     "name": "stdout",
     "output_type": "stream",
     "text": [
      "dh =  82147.8462793231 m\n"
     ]
    }
   ],
   "source": [
    "dh = altitude(86400) - altitude(86148)\n",
    "print (\"dh = \", dh , \"m\")"
   ]
  },
  {
   "cell_type": "markdown",
   "id": "890e42ee",
   "metadata": {},
   "source": [
    "A difference of 82 KM is pretty considerable."
   ]
  }
 ],
 "metadata": {
  "kernelspec": {
   "display_name": "Python 3 (ipykernel)",
   "language": "python",
   "name": "python3"
  },
  "language_info": {
   "codemirror_mode": {
    "name": "ipython",
    "version": 3
   },
   "file_extension": ".py",
   "mimetype": "text/x-python",
   "name": "python",
   "nbconvert_exporter": "python",
   "pygments_lexer": "ipython3",
   "version": "3.9.13"
  }
 },
 "nbformat": 4,
 "nbformat_minor": 5
}
