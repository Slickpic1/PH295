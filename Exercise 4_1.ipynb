{
 "cells": [
  {
   "cell_type": "markdown",
   "id": "321736bc",
   "metadata": {},
   "source": [
    "### Exercise 4.1\n",
    "PH 295  \n",
    "Nick Ball  \n",
    "**Purpose:**\n",
    "Write a program to calculate and print the factorial of a user entered integer numbers.  \n",
    "Then modify this program to use floating point instead of integers and explain findings."
   ]
  },
  {
   "cell_type": "code",
   "execution_count": 2,
   "id": "2a267269",
   "metadata": {},
   "outputs": [],
   "source": [
    "#Define Factorial function\n",
    "def factorial(n):\n",
    "    if n==0:\n",
    "        return 1\n",
    "    elif n==1:\n",
    "        return 1\n",
    "    else:\n",
    "        return n*factorial(n-1)"
   ]
  },
  {
   "cell_type": "code",
   "execution_count": 4,
   "id": "5952769c",
   "metadata": {},
   "outputs": [
    {
     "name": "stdout",
     "output_type": "stream",
     "text": [
      "Enter a number to be factorial - ed!:200\n",
      "Factorial of 200 is 788657867364790503552363213932185062295135977687173263294742533244359449963403342920304284011984623904177212138919638830257642790242637105061926624952829931113462857270763317237396988943922445621451664240254033291864131227428294853277524242407573903240321257405579568660226031904170324062351700858796178922222789623703897374720000000000000000000000000000000000000000000000000!\n"
     ]
    }
   ],
   "source": [
    "#ask user for input and force it to be int\n",
    "N = int(input(\"Enter a number to be factorial - ed!:\"))\n",
    "\n",
    "#calc factorial\n",
    "print(f'Factorial of {N} is {factorial(N)}!')"
   ]
  },
  {
   "cell_type": "markdown",
   "id": "b935257d",
   "metadata": {},
   "source": [
    "Do it again, but with a float."
   ]
  },
  {
   "cell_type": "code",
   "execution_count": 6,
   "id": "38469613",
   "metadata": {},
   "outputs": [
    {
     "name": "stdout",
     "output_type": "stream",
     "text": [
      "Enter a number to be factorial - ed!:200\n",
      "Factorial of 200.0 is inf!\n"
     ]
    }
   ],
   "source": [
    "#ask user for input and force it to be float\n",
    "N = float(input(\"Enter a number to be factorial - ed!:\"))\n",
    "\n",
    "#calc factorial\n",
    "print(f'Factorial of {N} is {factorial(N)}!')"
   ]
  },
  {
   "cell_type": "markdown",
   "id": "f59ac771",
   "metadata": {},
   "source": [
    "**Conclusion:**\n",
    "The factorial of 200.0 returns infinity since it can never reach the exit condition of n==1 or n==0."
   ]
  }
 ],
 "metadata": {
  "kernelspec": {
   "display_name": "Python 3 (ipykernel)",
   "language": "python",
   "name": "python3"
  },
  "language_info": {
   "codemirror_mode": {
    "name": "ipython",
    "version": 3
   },
   "file_extension": ".py",
   "mimetype": "text/x-python",
   "name": "python",
   "nbconvert_exporter": "python",
   "pygments_lexer": "ipython3",
   "version": "3.9.13"
  }
 },
 "nbformat": 4,
 "nbformat_minor": 5
}
