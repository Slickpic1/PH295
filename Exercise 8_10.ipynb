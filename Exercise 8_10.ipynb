{
 "cells": [
  {
   "cell_type": "markdown",
   "id": "6dc131b6",
   "metadata": {},
   "source": [
    "### Exercise 8.10\n",
    "PH 295  \n",
    "Nick Ball  \n",
    "**Purpose:**\n",
    "Write a program to solve two second order equations with both fixed and adaptive step sizes. Graph your results."
   ]
  },
  {
   "cell_type": "markdown",
   "id": "c0a2d9c1",
   "metadata": {},
   "source": [
    "*Second-Order Eq's*\n",
    "$$\n",
    "\\frac{d^2 x }{dt^2} = -GM\\frac{x}{r^3}, \\, \\, \\frac{d^2 y }{dt^2} = -GM\\frac{y}{r^3}\n",
    "$$\n",
    "  \n",
    "*Error Calculations:*\n",
    "$$\n",
    "\\rho = \\frac{30 h_{failed} \\, \\delta}{|x_1-x_2|}\n",
    "$$\n",
    "  \n",
    "$$\n",
    "h = h_{failed} \\, \\rho ^{\\frac{1}{4}}\n",
    "$$"
   ]
  },
  {
   "cell_type": "code",
   "execution_count": 68,
   "id": "629ad1e9",
   "metadata": {},
   "outputs": [],
   "source": [
    "#Import libraries\n",
    "from numpy import sin, array, arange\n",
    "from matplotlib import pyplot as plt"
   ]
  },
  {
   "cell_type": "markdown",
   "id": "5e02a797",
   "metadata": {},
   "source": [
    "a) Turn the two above second-order equations into four first-order equations, using the methods you have learned."
   ]
  },
  {
   "cell_type": "markdown",
   "id": "a71dd024",
   "metadata": {},
   "source": [
    "-Since we know $\\ddot{x} = \\frac{dv_x}{dt}$ and $\\ddot{y} = \\frac{dv_y}{dt}$, we now have:\n",
    "$$\n",
    "\\frac{dv_x}{dt} = -GM\\frac{x}{r^3}, \\, \\, \\, \\frac{dv_y}{dt} = -GM\\frac{y}{r^3}\n",
    "$$"
   ]
  },
  {
   "cell_type": "markdown",
   "id": "e1d07945",
   "metadata": {},
   "source": [
    "b) Write a program to solve your equations using the fourth order Runge-Kutta method with a fixed step size."
   ]
  },
  {
   "cell_type": "code",
   "execution_count": 69,
   "id": "78c70afa",
   "metadata": {},
   "outputs": [
    {
     "data": {
      "image/png": "[encoded data removed]",
      "text/plain": [
       "<Figure size 640x480 with 1 Axes>"
      ]
     },
     "metadata": {},
     "output_type": "display_data"
    }
   ],
   "source": [
    "#Define two simultanios ODE's as one function of values r(x,y) and t\n",
    "def f(r,t):\n",
    "    x = r[0]\n",
    "    y = r[1]\n",
    "    vx = r[2]\n",
    "    vy = r[3]\n",
    "    fx = vx                 #dx/dt\n",
    "    fy = vy                 #dy/dt\n",
    "    R = (x**2 + y**2)**0.5\n",
    "    fvx = -G*M*x/R**3\n",
    "    fvy = -G*M*y/R**3\n",
    "    return array([fx,fy,fvx,fvy], float)\n",
    "\n",
    "#Define Constants\n",
    "G = 6.67e-11\n",
    "M = 1.989e30\n",
    "a = 0.0\n",
    "b = 1.7e9\n",
    "N = 100000\n",
    "h = (b-a)/N\n",
    "\n",
    "tpoints = arange(a,b,h)  \n",
    "xpoints = []\n",
    "ypoints = []\n",
    "\n",
    "#Initial conditions array\n",
    "r = array([4e12,0.0,0.0,500],float)\n",
    "t = 0\n",
    "\n",
    "#RK4 Loop\n",
    "for t in tpoints:\n",
    "    xpoints.append(r[0])\n",
    "    ypoints.append(r[1])\n",
    "    \n",
    "    #actual RK4 here is here\n",
    "    k1 = h*f(r,t)\n",
    "    k2 = h*f(r+0.5*k1,t+0.5*h)\n",
    "    k3 = h*f(r+0.5*k2,t+0.5*h)\n",
    "    k4 = h*f(r+k3,t+h)\n",
    "    \n",
    "    #add estimated change to r\n",
    "    r += (k1+2*k2+2*k3+k4)/6\n",
    "    \n",
    "plt.figure(dpi = 100)\n",
    "plt.plot(xpoints,ypoints,'g,')\n",
    "plt.show()"
   ]
  },
  {
   "cell_type": "markdown",
   "id": "cd7915db",
   "metadata": {},
   "source": [
    "c) Modify the program to now use an adaptive step size."
   ]
  },
  {
   "cell_type": "code",
   "execution_count": 74,
   "id": "f1aba1ff",
   "metadata": {},
   "outputs": [],
   "source": [
    "#Define two simultanios ODE's as one function of values r(x,y) and t\n",
    "def f(r,t):\n",
    "    x = r[0]\n",
    "    y = r[1]\n",
    "    vx = r[2]\n",
    "    vy = r[3]\n",
    "    fx = vx                 #dx/dt\n",
    "    fy = vy                 #dy/dt\n",
    "    R = (x**2 + y**2)**0.5\n",
    "    fvx = -G*M*x/R**3\n",
    "    fvy = -G*M*y/R**3\n",
    "    return array([fx,fy,fvx,fvy], float)\n",
    "\n",
    "#Define Runge Kutte 4 \n",
    "def RK4(r,h,t):\n",
    "    k1 = h*f(r,t)\n",
    "    k2 = h*f(r+0.5*k1,t+0.5*h)\n",
    "    k3 = h*f(r+0.5*k2,t+0.5*h)\n",
    "    k4 = h*f(r+k3,t+h)\n",
    "    return r + (k1+2*k2+2*k3+k4)/6\n",
    "    \n",
    "\n",
    "#Define Constants\n",
    "G = 6.67e-11       #Gravitational constant\n",
    "M = 1.989e30       #Mass of sun in kg\n",
    "tmax = 1.7e9    #maximum time (found through trial and error)\n",
    "h = 3600000        #guess step\n",
    "δ = 1e3/3.2e7      #related to error, 1km/yr  (i think)\n",
    "\n",
    "#Set up lists for t, x, and y\n",
    "tpoints = []  \n",
    "xpoints = []\n",
    "ypoints = []\n",
    "\n",
    "#Initial conditions\n",
    "r = array([4e12,0.0,0.0,500],float)\n",
    "t = 0\n",
    "tpoints.append(t)\n",
    "xpoints.append(r[0])\n",
    "ypoints.append(r[1])\n",
    "\n",
    "#RK4 Loop\n",
    "while t < tmax:\n",
    "    \n",
    "#First do two RK4 steps of size h\n",
    "    #Calc a step h in the future starting at t,r\n",
    "    ri = RK4(r,h,t)\n",
    "    ti = t + h\n",
    "    \n",
    "    #Calc a step h in the future starting at ti,ri\n",
    "    r1 = RK4(ri,h,ti)\n",
    "    \n",
    "    #next, do one RK4 step of size 2h\n",
    "    r2 = RK4(r,2*h,t)\n",
    "       \n",
    "    #Accuracy\n",
    "    ex = (r1[0]-r2[0])/30          #error in x\n",
    "    ey = (r1[1]-r2[1])/30          #error in y\n",
    "    etotal = (ex**2 + ey**2)**0.5  #total error\n",
    "    \n",
    "    ρ = min(30*h*δ/etotal,16)      #min keeps the h from more than doubling each success\n",
    "    \n",
    "    if ρ > 1:                      #success\n",
    "        t += 2*h\n",
    "        h = h*ρ**0.25              #updates h with newleyfound target h\n",
    "        r = r1 #+ (r1-r2)/15       #set r to new value\n",
    "        tpoints.append(t)\n",
    "        xpoints.append(r[0])\n",
    "        ypoints.append(r[1])\n",
    "    else:                          #failed step, do over\n",
    "        h = h*ρ**0.25 "
   ]
  },
  {
   "cell_type": "markdown",
   "id": "88084950",
   "metadata": {},
   "source": [
    "d) Modify your program to place dots on the graph showing the positions of the comet at each Runge Kutta step around a single orbit."
   ]
  },
  {
   "cell_type": "code",
   "execution_count": 81,
   "id": "6b4d6b32",
   "metadata": {},
   "outputs": [
    {
     "data": {
      "image/png": "[encoded data removed]",
      "text/plain": [
       "<Figure size 640x480 with 1 Axes>"
      ]
     },
     "metadata": {},
     "output_type": "display_data"
    }
   ],
   "source": [
    "#Plot the figure\n",
    "plt.figure(dpi = 100)\n",
    "plt.plot(xpoints,ypoints,'r,')\n",
    "plt.show()"
   ]
  },
  {
   "cell_type": "code",
   "execution_count": 82,
   "id": "56499cff",
   "metadata": {},
   "outputs": [
    {
     "name": "stderr",
     "output_type": "stream",
     "text": [
      "C:\\Users\\slick\\AppData\\Local\\Temp\\ipykernel_9140\\1292051407.py:82: RuntimeWarning: divide by zero encountered in double_scalars\n",
      "  ρ = min(30*h*δ/etotal,16)  #min keeps the h from more than doubling each success\n"
     ]
    },
    {
     "data": {
      "text/plain": [
       "[<matplotlib.lines.Line2D at 0x174a770f1f0>]"
      ]
     },
     "execution_count": 82,
     "metadata": {},
     "output_type": "execute_result"
    },
    {
     "data": {
      "image/png": "[encoded data removed]",
      "text/plain": [
       "<Figure size 640x480 with 1 Axes>"
      ]
     },
     "metadata": {},
     "output_type": "display_data"
    }
   ],
   "source": [
    "########################################################\n",
    "# In class program, very unorganized, but still works. #\n",
    "# Refined version above. Use as ref if needed.         #\n",
    "########################################################\n",
    "\n",
    "\n",
    "#Define two simultanios ODE's as one function of values r(x,y) and t\n",
    "def f(r,t):\n",
    "    x = r[0]\n",
    "    y = r[1]\n",
    "    vx = r[2]\n",
    "    vy = r[3]\n",
    "    fx = vx                 #dx/dt\n",
    "    fy = vy                 #dy/dt\n",
    "    R = (x**2 + y**2)**0.5\n",
    "    fvx = -G*M*x/R**3\n",
    "    fvy = -G*M*y/R**3\n",
    "    return array([fx,fy,fvx,fvy], float)\n",
    "\n",
    "def RK4(h,t):\n",
    "    k1 = h*f(r,t)\n",
    "    k2 = h*f(r+0.5*k1,t+0.5*h)\n",
    "    k3 = h*f(r+0.5*k2,t+0.5*h)\n",
    "    k4 = h*f(r+k3,t+h)\n",
    "    \n",
    "\n",
    "#Define Constants\n",
    "G = 6.67e-11\n",
    "M = 1.989e30\n",
    "tmax = 2*1.7e9\n",
    "h = 3600\n",
    "δ = 1e3/3.2e7\n",
    "\n",
    "tpoints = []  \n",
    "xpoints = []\n",
    "ypoints = []\n",
    "\n",
    "#Initial conditions array\n",
    "r = array([4e12,0.0,0.0,500],float)\n",
    "t = 0\n",
    "tpoints.append(t)\n",
    "xpoints.append(r[0])\n",
    "ypoints.append(r[1])\n",
    "\n",
    "#RK4 Loop\n",
    "while t < tmax:\n",
    "    \n",
    "    #first do two RK4 steps of size h\n",
    "    k1 = h*f(r,t)\n",
    "    k2 = h*f(r+0.5*k1,t+0.5*h)\n",
    "    k3 = h*f(r+0.5*k2,t+0.5*h)\n",
    "    k4 = h*f(r+k3,t+h)\n",
    "    \n",
    "    #intermediate value\n",
    "    ri = r + (k1+2*k2+2*k3+k4)/6\n",
    "    ti = t + h\n",
    "    \n",
    "    k1 = h*f(ri,ti)\n",
    "    k2 = h*f(ri+0.5*k1,ti+0.5*h)\n",
    "    k3 = h*f(ri+0.5*k2,ti+0.5*h)\n",
    "    k4 = h*f(ri+k3,ti+h)    \n",
    "    \n",
    "    #Calculating whether h is too large or too small\n",
    "    \n",
    "    #Calculate a step\n",
    "    r1 = ri + (k1+2*k2+2*k3+k4)/6\n",
    "    \n",
    "    #next, do one RK4 step of size 2h\n",
    "    k1 = 2*h*f(r,t)\n",
    "    k2 = 2*h*f(r+0.5*k1,t+h)\n",
    "    k3 = 2*h*f(r+0.5*k2,t+h)\n",
    "    k4 = 2*h*f(r+k3,t+2*h)\n",
    "    \n",
    "    r2 = r + (k1+2*k2+2*k3+k4)/6\n",
    "    \n",
    "    \n",
    "    #Accuracy\n",
    "    ex = (r1[0]-r2[0])/30\n",
    "    ey = (r1[1]-r2[1])/30\n",
    "    etotal = (ex**2 + ey**2)**0.5\n",
    "    \n",
    "    ρ = min(30*h*δ/etotal,16)  #min keeps the h from more than doubling each success\n",
    "    \n",
    "    if ρ > 1:     #success\n",
    "        t += 2*h\n",
    "        h = h*ρ**0.25      #updates h with newleyfound target h\n",
    "        r = r1\n",
    "        tpoints.append(t)\n",
    "        xpoints.append(r[0])\n",
    "        ypoints.append(r[1])\n",
    "    else:                 #failed step, do over\n",
    "        h = h*ρ**0.25 \n",
    "    \n",
    "plt.figure(dpi = 100)\n",
    "plt.plot(xpoints,ypoints,'g-')"
   ]
  },
  {
   "cell_type": "markdown",
   "id": "fb6b4843",
   "metadata": {},
   "source": [
    "**Conclusion**\n",
    "No idea how this entriely works, but I see that it does work. Felt like streamlining the process using the built in function for RC4 so as to hopefully simplify code. Need to find out how to optimize other code more, gain more python skills, and lastly how to finish a conclusi"
   ]
  }
 ],
 "metadata": {
  "kernelspec": {
   "display_name": "Python 3 (ipykernel)",
   "language": "python",
   "name": "python3"
  },
  "language_info": {
   "codemirror_mode": {
    "name": "ipython",
    "version": 3
   },
   "file_extension": ".py",
   "mimetype": "text/x-python",
   "name": "python",
   "nbconvert_exporter": "python",
   "pygments_lexer": "ipython3",
   "version": "3.9.13"
  }
 },
 "nbformat": 4,
 "nbformat_minor": 5
}
