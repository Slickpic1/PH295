{
 "cells": [
  {
   "cell_type": "markdown",
   "id": "f503648a",
   "metadata": {},
   "source": [
    "### Exercise 10.5\n",
    "PH 295  \n",
    "Nick Ball  \n",
    "**Purpose:**\n",
    "Program that evaluates the given integral using hit or miss Monte Carlo and mean value method, both with 10,000 points."
   ]
  },
  {
   "cell_type": "markdown",
   "id": "f4694fcc",
   "metadata": {},
   "source": [
    "*Pathological Function*\n",
    "$\n",
    "I = \\int_{0}^{2} \\sin^2\\Big[ \\frac{1}{x(2-x)}\\Big] dx\n",
    "$"
   ]
  },
  {
   "cell_type": "code",
   "execution_count": 4,
   "id": "2db83890",
   "metadata": {},
   "outputs": [],
   "source": [
    "#Import Functions\n",
    "from random import random\n",
    "from numpy import arange, sin\n",
    "from matplotlib import pyplot as plt"
   ]
  },
  {
   "cell_type": "code",
   "execution_count": 33,
   "id": "9cb4bd44",
   "metadata": {},
   "outputs": [],
   "source": [
    "#Define Functions\n",
    "def f(x):\n",
    "    return (sin(1/(x*(2-x))))**2\n",
    "\n",
    "#Constants\n",
    "N = 1000000\n",
    "a = 0\n",
    "b = 2\n",
    "h = (b-a)/N\n",
    "Iactual = 1.4514    #approx value calculated by mathematica"
   ]
  },
  {
   "cell_type": "markdown",
   "id": "d852b257",
   "metadata": {},
   "source": [
    "a) Evaluate the above integral with \"hit-or-miss\" Monte Carlo with 10000 points and evaluate your error estimate."
   ]
  },
  {
   "cell_type": "code",
   "execution_count": 28,
   "id": "bc024e69",
   "metadata": {},
   "outputs": [
    {
     "name": "stdout",
     "output_type": "stream",
     "text": [
      "I = 1.4716 with error of approximately 1.39176e-02\n"
     ]
    }
   ],
   "source": [
    "#Monte Carlo Hit or Miss\n",
    "count = 0          #reset count\n",
    "\n",
    "for i in range(N):\n",
    "    x = 2*random()\n",
    "    y = random()\n",
    "    if y<f(x):\n",
    "        count += 1\n",
    "I = 2*count/N\n",
    "\n",
    "#Calculate Error\n",
    "error = abs(Iactual - I)/Iactual\n",
    "print(f'I = {I} with error of approximately {error:.5e}')"
   ]
  },
  {
   "cell_type": "markdown",
   "id": "7f16e7f5",
   "metadata": {},
   "source": [
    "b) Estimate the integral again using mean value method also with 10000 points and evaluate the error estimate."
   ]
  },
  {
   "cell_type": "code",
   "execution_count": 35,
   "id": "32897861",
   "metadata": {},
   "outputs": [
    {
     "name": "stdout",
     "output_type": "stream",
     "text": [
      "I = 1.4513184612058667 with error of approximately 5.61794e-05\n"
     ]
    }
   ],
   "source": [
    "#Mean Value Method\n",
    "s = 0\n",
    "\n",
    "for i in range(N):\n",
    "    x = 2*random()\n",
    "    s += f(x)\n",
    "I = h*s\n",
    "error = abs(Iactual - I)/Iactual\n",
    "print(f'I = {I} with error of approximately {error:.5e}')"
   ]
  },
  {
   "cell_type": "markdown",
   "id": "d0b16c7e",
   "metadata": {},
   "source": [
    "**Conclusion:**\n",
    "Very nice method, super good, just run it enough until you get the correct answers. Monkey with a typewriter method."
   ]
  }
 ],
 "metadata": {
  "kernelspec": {
   "display_name": "Python 3 (ipykernel)",
   "language": "python",
   "name": "python3"
  },
  "language_info": {
   "codemirror_mode": {
    "name": "ipython",
    "version": 3
   },
   "file_extension": ".py",
   "mimetype": "text/x-python",
   "name": "python",
   "nbconvert_exporter": "python",
   "pygments_lexer": "ipython3",
   "version": "3.9.13"
  }
 },
 "nbformat": 4,
 "nbformat_minor": 5
}
