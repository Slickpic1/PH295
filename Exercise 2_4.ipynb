{
 "cells": [
  {
   "cell_type": "code",
   "execution_count": 3,
   "id": "7bf5a584",
   "metadata": {
    "scrolled": true
   },
   "outputs": [
    {
     "data": {
      "text/plain": [
       "'\\nExercise 2.4\\nPH 295\\nNick Ball\\n\\nPurpose: Calculate the time in years it takes for a ship moving at relativistic\\n   speeds towrads a planet x light years away (both user defined) in the \\n   reference frame of (a) an observer on earth and (b) on the ship.\\n\\n'"
      ]
     },
     "execution_count": 3,
     "metadata": {},
     "output_type": "execute_result"
    }
   ],
   "source": [
    "\"\"\"\n",
    "Exercise 2.4\n",
    "PH 295\n",
    "Nick Ball\n",
    "\n",
    "Purpose: Calculate the time in years it takes for a ship moving at relativistic\n",
    "   speeds towrads a planet x light years away (both user defined) in the \n",
    "   reference frame of (a) an observer on earth and (b) on the ship.\n",
    "\n",
    "\"\"\""
   ]
  },
  {
   "cell_type": "code",
   "execution_count": 6,
   "id": "570720a9",
   "metadata": {},
   "outputs": [
    {
     "name": "stdout",
     "output_type": "stream",
     "text": [
      "Enter the distance of the planet in Light Years: 10\n",
      "Enter the speed of the ship as a fraction of c: 0.99\n",
      "Time to planet in Ship's reference frame:  10.1010101010101 years\n",
      "Time to planet in Earths reference frame:  507.58844728693896 years\n"
     ]
    }
   ],
   "source": [
    "#Ask User for Inputs\n",
    "x = float(input(\"Enter the distance of the planet in Light Years: \"))\n",
    "v = float(input(\"Enter the speed of the ship as a fraction of c: \"))\n",
    "\n",
    "#Calculate time in frame of Earth (S)\n",
    "dto = x/v                 #ships reference time in years \n",
    "dt = dto/(1-(v**2))       #Earths reference time in years\n",
    "\n",
    "#Print time back to user\n",
    "print(\"Time to planet in Ship's reference frame: \", dto, \"years\")\n",
    "print(\"Time to planet in Earths reference frame: \", dt, \"years\")"
   ]
  },
  {
   "cell_type": "code",
   "execution_count": null,
   "id": "996f1175",
   "metadata": {},
   "outputs": [],
   "source": []
  }
 ],
 "metadata": {
  "kernelspec": {
   "display_name": "Python 3 (ipykernel)",
   "language": "python",
   "name": "python3"
  },
  "language_info": {
   "codemirror_mode": {
    "name": "ipython",
    "version": 3
   },
   "file_extension": ".py",
   "mimetype": "text/x-python",
   "name": "python",
   "nbconvert_exporter": "python",
   "pygments_lexer": "ipython3",
   "version": "3.9.13"
  }
 },
 "nbformat": 4,
 "nbformat_minor": 5
}
