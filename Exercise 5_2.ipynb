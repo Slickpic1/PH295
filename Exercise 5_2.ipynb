{
 "cells": [
  {
   "cell_type": "markdown",
   "id": "1092503b",
   "metadata": {},
   "source": [
    "### Exercise 5.2\n",
    "PH 295  \n",
    "Nick Ball  \n",
    "**Purpose:**\n",
    "Evaluate a given integral and calculate an approximate value using Simpson's Rule."
   ]
  },
  {
   "cell_type": "markdown",
   "id": "20ba8888",
   "metadata": {},
   "source": [
    "*Integral:*\n",
    "$$\n",
    "\\int_{0}^{2} (x^{4} - 2x + 1)dx\n",
    "$$"
   ]
  },
  {
   "cell_type": "markdown",
   "id": "2f5611a2",
   "metadata": {},
   "source": [
    "*Simpson's Rule:*\n",
    "$$\n",
    "I(a,b) = \\frac{1}{3} \\Bigg[f(a)+f(b)+4\\sum_{\\substack{k\\,odd \\\\ 1 \\cdots N-1}} f(a+kh) +2\\sum_{\\substack{k\\,even \\\\ 2 \\cdots N-2}} f(a+kh)\\Bigg]\n",
    "$$"
   ]
  },
  {
   "cell_type": "markdown",
   "id": "161fd561",
   "metadata": {},
   "source": [
    "a) Write a program to calculate an approximate value for the above integral using simpsons rule"
   ]
  },
  {
   "cell_type": "code",
   "execution_count": 1,
   "id": "de8a4cc2",
   "metadata": {},
   "outputs": [],
   "source": [
    "#Define Constants\n",
    "N = 10      \n",
    "a = 0.0\n",
    "b = 2.0\n",
    "h = (b-a)/N\n",
    "\n",
    "#Define Function\n",
    "def f(x):\n",
    "    return x**4 - 2*x + 1"
   ]
  },
  {
   "cell_type": "code",
   "execution_count": 2,
   "id": "b4a7630a",
   "metadata": {},
   "outputs": [],
   "source": [
    "#Calculate Integral\n",
    "def I():\n",
    "    I = f(a)+f(b)\n",
    "\n",
    "    #Sum of k odd\n",
    "    for k in range(1,int(N/2)+1):     \n",
    "        I += 4*(f(a+(2*k-1)*h))\n",
    "\n",
    "    #Sum of k even\n",
    "    for k in range(1,int(N/2)):\n",
    "        I += 2*(f(a+2*k*h))\n",
    "    \n",
    "    #Multiply end result by h/3\n",
    "    return I*(h/3)"
   ]
  },
  {
   "cell_type": "code",
   "execution_count": 3,
   "id": "07c3fa80",
   "metadata": {},
   "outputs": [
    {
     "name": "stdout",
     "output_type": "stream",
     "text": [
      "The Integral approximate is: 4.400426666666667\n",
      "Fractional Error of: 9.696969696972666e-05\n"
     ]
    }
   ],
   "source": [
    "#Print Integral Value\n",
    "print(f'The Integral approximate is: {I()}')\n",
    "print(f'Fractional Error of: {(I()-4.4)/4.4}')"
   ]
  },
  {
   "cell_type": "markdown",
   "id": "4077097a",
   "metadata": {},
   "source": [
    "b) The result comes out to nearly 4.4 with 9.696969696972666e-05 fractional error."
   ]
  },
  {
   "cell_type": "markdown",
   "id": "2d529712",
   "metadata": {},
   "source": [
    "c) Now use one hundred slices instead of 10. Note how these compare to the results from example 1.1  \n",
    "   of the trapezoiud rule of the same number of slices."
   ]
  },
  {
   "cell_type": "code",
   "execution_count": 4,
   "id": "b5e4dd46",
   "metadata": {},
   "outputs": [
    {
     "name": "stdout",
     "output_type": "stream",
     "text": [
      "The Integral approximate with N = 100 is: 4.400000042666668\n",
      "Fractional Error of Simpsons: 9.696969893724372e-09\n",
      "Fractional Error of Trapezoidal: 0.024218181818181812\n"
     ]
    }
   ],
   "source": [
    "N = 100\n",
    "h = (b-a)/N\n",
    "print(f'The Integral approximate with N = {N} is: {I()}')\n",
    "print(f'Fractional Error of Simpsons: {(I()-4.4)/4.4}')\n",
    "print(f'Fractional Error of Trapezoidal: {(4.50656-4.4)/4.4}')"
   ]
  },
  {
   "cell_type": "markdown",
   "id": "ce38c5fa",
   "metadata": {},
   "source": [
    "**Conclusion:**\n",
    "We can see that Simpson's Rule for integration is far more approximate than the Trapezoidal Method, though  \n",
    "according to the book, the Trapezoidal rule is faster than Simpson's."
   ]
  }
 ],
 "metadata": {
  "kernelspec": {
   "display_name": "Python 3 (ipykernel)",
   "language": "python",
   "name": "python3"
  },
  "language_info": {
   "codemirror_mode": {
    "name": "ipython",
    "version": 3
   },
   "file_extension": ".py",
   "mimetype": "text/x-python",
   "name": "python",
   "nbconvert_exporter": "python",
   "pygments_lexer": "ipython3",
   "version": "3.9.13"
  }
 },
 "nbformat": 4,
 "nbformat_minor": 5
}
