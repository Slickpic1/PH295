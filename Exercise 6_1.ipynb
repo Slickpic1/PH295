{
 "cells": [
  {
   "cell_type": "markdown",
   "id": "a2c5c98f",
   "metadata": {},
   "source": [
    "### Exercise 6.1\n",
    "PH 295  \n",
    "Nick Ball  \n",
    "**Purpose:**\n",
    "For a given circuit, set up the equations for the junctions and create a program to solve for the four resulting equations using Gaussian Elimination to find the voltages."
   ]
  },
  {
   "cell_type": "markdown",
   "id": "3af2936b",
   "metadata": {},
   "source": [
    "a) Write similar equations for the other three junctions with unknown voltages."
   ]
  },
  {
   "cell_type": "markdown",
   "id": "6f0f52ec",
   "metadata": {},
   "source": [
    "For V1 junction:\n",
    "$$\n",
    "\\frac{V_1-V_2}{R} + \\frac{V_1-V_3}{R}+\\frac{V_1-V_4}{R}+\\frac{V_1-V_+}{R} = 0\n",
    "$$\n",
    "  \n",
    "$$\n",
    "4V_1 - V_2 - V_3 - V_4 = V_+\n",
    "$$\n",
    "  \n",
    "For V2 Junction:\n",
    "$$\n",
    "\\frac{V_1-V_2}{R}-\\frac{V_2-V_4}{R}-\\frac{V_2}{R}\n",
    "$$\n",
    "  \n",
    "$$\n",
    "- V_1 + 3 V_2 - V_4  = 0\n",
    "$$\n",
    "  \n",
    "For V3 Junction:\n",
    "$$\n",
    "\\frac{V_1-V_3}{R}+\\frac{V_4-V_3}{R}-\\frac{V_3-V_+}{R} = 0\n",
    "$$\n",
    "  \n",
    "$$\n",
    "- V_1 + 3 V_3 - V_4 = V_+\n",
    "$$\n",
    "  \n",
    "For V4 Junction:\n",
    "$$\n",
    "\\frac{V_1-V_4}{R}+\\frac{V_2-V_4}{R}-\\frac{V_4}{R}-\\frac{V_4-V_3}{R} = 0\n",
    "$$\n",
    "  \n",
    "$$\n",
    "- V_1 - V_2 -V_3 + 4 V_4   = 0\n",
    "$$"
   ]
  },
  {
   "cell_type": "markdown",
   "id": "a3ef4608",
   "metadata": {},
   "source": [
    "$$\n",
    "\\begin {bmatrix} 4 &-1 &-1 &-1 \\\\ -1 &3 &0 &-1 \\\\ -1 &0 &3 &-1 \\\\ -1 &-1 &-1 &4 \\end {bmatrix} \\, \\begin {bmatrix} V_1 \\\\ V_2 \\\\ V_3 \\\\ V_4 \\end {bmatrix} = \\begin {bmatrix} V_+ \\\\ 0 \\\\ V_+ \\\\ 0 \\end {bmatrix}\n",
    "$$"
   ]
  },
  {
   "cell_type": "markdown",
   "id": "8a8bb7e1",
   "metadata": {},
   "source": [
    "b) Write a program to solve the our resulting equations using Gaussian elimination and hence find the four voltages."
   ]
  },
  {
   "cell_type": "code",
   "execution_count": 4,
   "id": "767edac5",
   "metadata": {},
   "outputs": [],
   "source": [
    "#Import libraries\n",
    "from numpy import array, empty"
   ]
  },
  {
   "cell_type": "code",
   "execution_count": 9,
   "id": "5cb39b79",
   "metadata": {},
   "outputs": [
    {
     "name": "stdout",
     "output_type": "stream",
     "text": [
      "[3.         1.66666667 3.33333333 2.        ]\n"
     ]
    }
   ],
   "source": [
    "#Write array for given variables\n",
    "A = array([[4,-1,-1,-1],\n",
    "           [-1,3,0,-1],\n",
    "           [-1,0,3,-1],\n",
    "           [-1,-1,-1,4]], float)\n",
    "v = array([5,0,5,0],float)\n",
    "N = len(v)\n",
    "\n",
    "#Gaussian Elimination\n",
    "for m in range(N):\n",
    "    \n",
    "    #Divinde by the diaganol element\n",
    "    div = A[m,m]\n",
    "    A[m,:] /= div\n",
    "    v[m] /= div\n",
    "    \n",
    "    #subtract from lower rows\n",
    "    for i in range(m+1,N):\n",
    "        mult = A[i,m]\n",
    "        A[i,:] -= mult*A[m,:]\n",
    "        v[i] -= mult*v[m]\n",
    "        \n",
    "    #backsubstitute\n",
    "    x = empty(N,float)\n",
    "    for m in range(N-1,-1,-1):\n",
    "        x[m] = v[m]\n",
    "        for i in range(m+1,N):\n",
    "            x[m] -= A[m,i]*x[i]\n",
    "            \n",
    "print(x)"
   ]
  },
  {
   "cell_type": "markdown",
   "id": "0d9cedb9",
   "metadata": {},
   "source": [
    "*Conclusion*\n",
    "No idea what on earth I just conjured up, but it brings back pretty interesting memories from brother Cameron's Diff eq. with linear algebra class."
   ]
  }
 ],
 "metadata": {
  "kernelspec": {
   "display_name": "Python 3 (ipykernel)",
   "language": "python",
   "name": "python3"
  },
  "language_info": {
   "codemirror_mode": {
    "name": "ipython",
    "version": 3
   },
   "file_extension": ".py",
   "mimetype": "text/x-python",
   "name": "python",
   "nbconvert_exporter": "python",
   "pygments_lexer": "ipython3",
   "version": "3.9.13"
  }
 },
 "nbformat": 4,
 "nbformat_minor": 5
}
