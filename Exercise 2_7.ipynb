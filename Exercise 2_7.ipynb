{
 "cells": [
  {
   "cell_type": "markdown",
   "id": "5d583298",
   "metadata": {},
   "source": [
    "### Exercise 2.7\n",
    "PH 295  \n",
    "Nick Ball  \n",
    "**Purpose:**\n",
    "Small program that prints in increasing number all Catalan numbers  \n",
    "less than or equal to one billion."
   ]
  },
  {
   "cell_type": "code",
   "execution_count": 2,
   "id": "e4864923",
   "metadata": {},
   "outputs": [
    {
     "name": "stdout",
     "output_type": "stream",
     "text": [
      "1\n",
      "1.0\n",
      "2.0\n",
      "5.0\n",
      "14.0\n",
      "42.0\n",
      "132.0\n",
      "429.0\n",
      "1430.0\n",
      "4862.0\n",
      "16796.0\n",
      "58786.0\n",
      "208012.0\n",
      "742900.0\n",
      "2674440.0\n",
      "9694845.0\n",
      "35357670.0\n",
      "129644790.0\n",
      "477638700.0\n"
     ]
    }
   ],
   "source": [
    "#initialize vars\n",
    "c0 = 1\n",
    "n = 0\n",
    "c = 1\n",
    "limit = 1e9    #upper limit that we want\n",
    "\n",
    "#calculate and print\n",
    "while c <= limit:\n",
    "    print(c)\n",
    "    c = c*(4*n+2)/(n+2)\n",
    "    n += 1"
   ]
  },
  {
   "cell_type": "code",
   "execution_count": null,
   "id": "80143ad1",
   "metadata": {},
   "outputs": [],
   "source": []
  }
 ],
 "metadata": {
  "kernelspec": {
   "display_name": "Python 3 (ipykernel)",
   "language": "python",
   "name": "python3"
  },
  "language_info": {
   "codemirror_mode": {
    "name": "ipython",
    "version": 3
   },
   "file_extension": ".py",
   "mimetype": "text/x-python",
   "name": "python",
   "nbconvert_exporter": "python",
   "pygments_lexer": "ipython3",
   "version": "3.9.13"
  }
 },
 "nbformat": 4,
 "nbformat_minor": 5
}
