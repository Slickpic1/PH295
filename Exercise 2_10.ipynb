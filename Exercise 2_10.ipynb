{
 "cells": [
  {
   "cell_type": "markdown",
   "id": "72a7c89f",
   "metadata": {},
   "source": [
    "### Exercise 2.10\n",
    "Ph 295  \n",
    "Nick Ball  \n",
    "**Purpose:**\n",
    "Program that calculates the binding nuclear energy of an atomic nucleus   \n",
    "   with atomic number Z and mass number A,both of which are user defined."
   ]
  },
  {
   "cell_type": "markdown",
   "id": "4aedb803",
   "metadata": {},
   "source": [
    "$$ B = a_1 A - a_2 A^\\frac{2}{3}-a_3 \\frac{Z^2}{A^\\frac{1}{3}} - a_4 \\frac{(A-2Z)^2}{A}+ \\frac{a_5}{A^\\frac{1}{3}} $$"
   ]
  },
  {
   "cell_type": "code",
   "execution_count": 2,
   "id": "2338cb56",
   "metadata": {},
   "outputs": [],
   "source": [
    "#define constants/ vars\n",
    "a1 = 15.8             #MeV\n",
    "a2 = 18.3             #MeV\n",
    "a3 = 0.714            #MeV\n",
    "a4 = 23.2             #MeV\n",
    "a5 = 0                #MeV, just defining it here\n",
    "\n",
    "#Ask user for value of A and Z\n",
    "def askUser():\n",
    "    A = int(input(\"Please input the value of A: \"))\n",
    "    Z = int(input(\"Please input the value of Z: \"))\n",
    "    return A,Z\n",
    "\n",
    "#define a5 based on A\n",
    "def calcA5(A,Z):\n",
    "    if A%2==0:\n",
    "        if Z%2==0:\n",
    "            a5 = 12.0\n",
    "        else:\n",
    "            a5 = -12.0\n",
    "    else:\n",
    "        a5 = 0\n",
    "    return a5\n",
    "    \n",
    "#Calculate B\n",
    "def calcB(A,Z):           #Note: function was updated through the problem.\n",
    "    #A,Z = askUser()\n",
    "    B = a1*A-a2*(A**(2/3))-a3*(Z**2)/(A**(1/3))-a4*((A-2*Z)**2)/A + calcA5(A,Z)/(A**(1/3))    #MeV\n",
    "    return B    "
   ]
  },
  {
   "cell_type": "code",
   "execution_count": 6,
   "id": "92405986",
   "metadata": {},
   "outputs": [
    {
     "name": "stdout",
     "output_type": "stream",
     "text": [
      "Please input the value of A: 58\n",
      "Please input the value of Z: 28\n",
      "Total binding energy is:  499.08641638680166 MeV\n"
     ]
    }
   ],
   "source": [
    "print(\"Total binding energy is: \", calcB(),\"MeV\")"
   ]
  },
  {
   "cell_type": "code",
   "execution_count": 10,
   "id": "667f9985",
   "metadata": {},
   "outputs": [
    {
     "name": "stdout",
     "output_type": "stream",
     "text": [
      "Please input the value of A: 58\n",
      "Please input the value of Z: 28\n",
      "Binding energy per Nucleon:  8.604938213565546 MeV\n"
     ]
    }
   ],
   "source": [
    "print(\"Binding energy per Nucleon: \", calcB(),\"MeV\")"
   ]
  },
  {
   "cell_type": "code",
   "execution_count": 18,
   "id": "283aba93",
   "metadata": {},
   "outputs": [
    {
     "name": "stdout",
     "output_type": "stream",
     "text": [
      "Please input the value of Z: 28\n",
      "Stable nucleus with A = 84 and binding energy: 634.5924828572148 MeV\n"
     ]
    }
   ],
   "source": [
    "Z = int(input(\"Please input the value of Z: \"))\n",
    "A = Z                                               #initially\n",
    "nucleus = [0,0]\n",
    "while A <= 3*Z:\n",
    "    newB = calcB(A,Z)\n",
    "    if newB > nucleus[1]:\n",
    "        nucleus[0] = A\n",
    "        nucleus[1] = newB\n",
    "    A += 1\n",
    "    \n",
    "print(\"Stable nucleus with A =\", nucleus[0], \"and binding energy:\", nucleus[1], \"MeV\",)"
   ]
  },
  {
   "cell_type": "code",
   "execution_count": 4,
   "id": "308885fb",
   "metadata": {
    "scrolled": true
   },
   "outputs": [
    {
     "name": "stdout",
     "output_type": "stream",
     "text": [
      "Stable nucleus with A = 3 and binding energy per nucleon: 0.36869091831015793 MeV/n at Z = 1\n",
      "Stable nucleus with A = 6 and binding energy per nucleon: 3.9900336343128484 MeV/n at Z = 2\n",
      "Stable nucleus with A = 7 and binding energy per nucleon: 5.280168164356119 MeV/n at Z = 3\n",
      "Stable nucleus with A = 10 and binding energy per nucleon: 6.404627986170224 MeV/n at Z = 4\n",
      "Stable nucleus with A = 13 and binding energy per nucleon: 6.197726872198986 MeV/n at Z = 5\n",
      "Stable nucleus with A = 16 and binding energy per nucleon: 6.747737936992797 MeV/n at Z = 6\n",
      "Stable nucleus with A = 19 and binding energy per nucleon: 6.645249575875988 MeV/n at Z = 7\n",
      "Stable nucleus with A = 22 and binding energy per nucleon: 6.996807717725571 MeV/n at Z = 8\n",
      "Stable nucleus with A = 25 and binding energy per nucleon: 6.931450043962489 MeV/n at Z = 9\n",
      "Stable nucleus with A = 28 and binding energy per nucleon: 7.181001347451484 MeV/n at Z = 10\n",
      "Stable nucleus with A = 33 and binding energy per nucleon: 6.700701998921224 MeV/n at Z = 11\n",
      "Stable nucleus with A = 36 and binding energy per nucleon: 6.916006155942329 MeV/n at Z = 12\n",
      "Stable nucleus with A = 39 and binding energy per nucleon: 6.913562216939672 MeV/n at Z = 13\n",
      "Stable nucleus with A = 42 and binding energy per nucleon: 7.081220470786276 MeV/n at Z = 14\n",
      "Stable nucleus with A = 45 and binding energy per nucleon: 7.073598092172469 MeV/n at Z = 15\n",
      "Stable nucleus with A = 48 and binding energy per nucleon: 7.207761738360662 MeV/n at Z = 16\n",
      "Stable nucleus with A = 51 and binding energy per nucleon: 7.196491282083172 MeV/n at Z = 17\n",
      "Stable nucleus with A = 54 and binding energy per nucleon: 7.306037294168296 MeV/n at Z = 18\n",
      "Stable nucleus with A = 57 and binding energy per nucleon: 7.292121327999953 MeV/n at Z = 19\n",
      "Stable nucleus with A = 60 and binding energy per nucleon: 7.382944347383349 MeV/n at Z = 20\n",
      "Stable nucleus with A = 63 and binding energy per nucleon: 7.367066394413216 MeV/n at Z = 21\n",
      "Stable nucleus with A = 66 and binding energy per nucleon: 7.443257919432258 MeV/n at Z = 22\n",
      "Stable nucleus with A = 69 and binding energy per nucleon: 7.4258994500254865 MeV/n at Z = 23\n",
      "Stable nucleus with A = 72 and binding energy per nucleon: 7.490401929916071 MeV/n at Z = 24\n",
      "Stable nucleus with A = 75 and binding energy per nucleon: 7.471911379963288 MeV/n at Z = 25\n",
      "Stable nucleus with A = 78 and binding energy per nucleon: 7.526903298108288 MeV/n at Z = 26\n",
      "Stable nucleus with A = 81 and binding energy per nucleon: 7.507538599024291 MeV/n at Z = 27\n",
      "Stable nucleus with A = 84 and binding energy per nucleon: 7.554672414966843 MeV/n at Z = 28\n",
      "Stable nucleus with A = 87 and binding energy per nucleon: 7.5346281921749245 MeV/n at Z = 29\n",
      "Stable nucleus with A = 90 and binding energy per nucleon: 7.575183381084633 MeV/n at Z = 30\n",
      "Stable nucleus with A = 93 and binding energy per nucleon: 7.554608910469602 MeV/n at Z = 31\n",
      "Stable nucleus with A = 96 and binding energy per nucleon: 7.5895937807187535 MeV/n at Z = 32\n",
      "Stable nucleus with A = 99 and binding energy per nucleon: 7.568605174453916 MeV/n at Z = 33\n",
      "Stable nucleus with A = 102 and binding energy per nucleon: 7.598826594743438 MeV/n at Z = 34\n",
      "Stable nucleus with A = 105 and binding energy per nucleon: 7.577515271939436 MeV/n at Z = 35\n",
      "Stable nucleus with A = 108 and binding energy per nucleon: 7.60362763208733 MeV/n at Z = 36\n",
      "Stable nucleus with A = 111 and binding energy per nucleon: 7.5820663324621025 MeV/n at Z = 37\n",
      "Stable nucleus with A = 114 and binding energy per nucleon: 7.604606682754051 MeV/n at Z = 38\n",
      "Stable nucleus with A = 117 and binding energy per nucleon: 7.58285381641701 MeV/n at Z = 39\n",
      "Stable nucleus with A = 120 and binding energy per nucleon: 7.602267578312402 MeV/n at Z = 40\n",
      "Stable nucleus with A = 123 and binding energy per nucleon: 7.580370424749395 MeV/n at Z = 41\n",
      "Stable nucleus with A = 126 and binding energy per nucleon: 7.59703052793264 MeV/n at Z = 42\n",
      "Stable nucleus with A = 129 and binding energy per nucleon: 7.5750276239192535 MeV/n at Z = 43\n",
      "Stable nucleus with A = 132 and binding energy per nucleon: 7.589248970403723 MeV/n at Z = 44\n",
      "Stable nucleus with A = 135 and binding energy per nucleon: 7.56717191651854 MeV/n at Z = 45\n",
      "Stable nucleus with A = 138 and binding energy per nucleon: 7.579222464658773 MeV/n at Z = 46\n",
      "Stable nucleus with A = 141 and binding energy per nucleon: 7.557097308605691 MeV/n at Z = 47\n",
      "Stable nucleus with A = 144 and binding energy per nucleon: 7.567206673537369 MeV/n at Z = 48\n",
      "Stable nucleus with A = 147 and binding energy per nucleon: 7.54505498112738 MeV/n at Z = 49\n",
      "Stable nucleus with A = 150 and binding energy per nucleon: 7.553421184242906 MeV/n at Z = 50\n",
      "Stable nucleus with A = 153 and binding energy per nucleon: 7.531260876913882 MeV/n at Z = 51\n",
      "Stable nucleus with A = 156 and binding energy per nucleon: 7.538055697873772 MeV/n at Z = 52\n",
      "Stable nucleus with A = 159 and binding energy per nucleon: 7.51590171367499 MeV/n at Z = 53\n",
      "Stable nucleus with A = 162 and binding energy per nucleon: 7.521274974780913 MeV/n at Z = 54\n",
      "Stable nucleus with A = 165 and binding energy per nucleon: 7.499139794442174 MeV/n at Z = 55\n",
      "Stable nucleus with A = 168 and binding energy per nucleon: 7.503222820440156 MeV/n at Z = 56\n",
      "Stable nucleus with A = 171 and binding energy per nucleon: 7.481116889319008 MeV/n at Z = 57\n",
      "Stable nucleus with A = 174 and binding energy per nucleon: 7.484025323953305 MeV/n at Z = 58\n",
      "Stable nucleus with A = 177 and binding energy per nucleon: 7.461957392895886 MeV/n at Z = 59\n",
      "Stable nucleus with A = 180 and binding energy per nucleon: 7.463793508996007 MeV/n at Z = 60\n",
      "Stable nucleus with A = 183 and binding energy per nucleon: 7.441770911519856 MeV/n at Z = 61\n",
      "Stable nucleus with A = 186 and binding energy per nucleon: 7.442625518880534 MeV/n at Z = 62\n",
      "Stable nucleus with A = 189 and binding energy per nucleon: 7.42065439796009 MeV/n at Z = 63\n",
      "Stable nucleus with A = 192 and binding energy per nucleon: 7.420608429252582 MeV/n at Z = 64\n",
      "Stable nucleus with A = 195 and binding energy per nucleon: 7.398693923928733 MeV/n at Z = 65\n",
      "Stable nucleus with A = 198 and binding energy per nucleon: 7.39781976095062 MeV/n at Z = 66\n",
      "Stable nucleus with A = 201 and binding energy per nucleon: 7.3759661606957625 MeV/n at Z = 67\n",
      "Stable nucleus with A = 204 and binding energy per nucleon: 7.374328749748253 MeV/n at Z = 68\n",
      "Stable nucleus with A = 207 and binding energy per nucleon: 7.352539622788827 MeV/n at Z = 69\n",
      "Stable nucleus with A = 210 and binding energy per nucleon: 7.350197417685215 MeV/n at Z = 70\n",
      "Stable nucleus with A = 213 and binding energy per nucleon: 7.328475718166303 MeV/n at Z = 71\n",
      "Stable nucleus with A = 216 and binding energy per nucleon: 7.325481481481482 MeV/n at Z = 72\n",
      "Stable nucleus with A = 219 and binding energy per nucleon: 7.303829639346484 MeV/n at Z = 73\n",
      "Stable nucleus with A = 222 and binding energy per nucleon: 7.30023112641 MeV/n at Z = 74\n",
      "Stable nucleus with A = 225 and binding energy per nucleon: 7.2786511230857895 MeV/n at Z = 75\n",
      "Stable nucleus with A = 228 and binding energy per nucleon: 7.274491668459664 MeV/n at Z = 76\n",
      "Stable nucleus with A = 231 and binding energy per nucleon: 7.252985100828031 MeV/n at Z = 77\n",
      "Stable nucleus with A = 234 and binding energy per nucleon: 7.248304123271632 MeV/n at Z = 78\n",
      "Stable nucleus with A = 237 and binding energy per nucleon: 7.226872257929522 MeV/n at Z = 79\n",
      "Stable nucleus with A = 240 and binding energy per nucleon: 7.221705696898235 MeV/n at Z = 80\n",
      "Stable nucleus with A = 243 and binding energy per nucleon: 7.200349516332024 MeV/n at Z = 81\n",
      "Stable nucleus with A = 246 and binding energy per nucleon: 7.194730210704775 MeV/n at Z = 82\n",
      "Stable nucleus with A = 249 and binding energy per nucleon: 7.173450452704085 MeV/n at Z = 83\n",
      "Stable nucleus with A = 252 and binding energy per nucleon: 7.167408470552491 MeV/n at Z = 84\n",
      "Stable nucleus with A = 255 and binding energy per nucleon: 7.146205661949871 MeV/n at Z = 85\n",
      "Stable nucleus with A = 258 and binding energy per nucleon: 7.139768588646396 MeV/n at Z = 86\n",
      "Stable nucleus with A = 261 and binding energy per nucleon: 7.118643074277155 MeV/n at Z = 87\n",
      "Stable nucleus with A = 264 and binding energy per nucleon: 7.111836265013082 MeV/n at Z = 88\n",
      "Stable nucleus with A = 267 and binding energy per nucleon: 7.090788232634581 MeV/n at Z = 89\n",
      "Stable nucleus with A = 270 and binding energy per nucleon: 7.083635034420554 MeV/n at Z = 90\n",
      "Stable nucleus with A = 273 and binding energy per nucleon: 7.062664536204766 MeV/n at Z = 91\n",
      "Stable nucleus with A = 276 and binding energy per nucleon: 7.055186483610654 MeV/n at Z = 92\n",
      "Stable nucleus with A = 279 and binding energy per nucleon: 7.034293454721383 MeV/n at Z = 93\n",
      "Stable nucleus with A = 282 and binding energy per nucleon: 7.026510442941899 MeV/n at Z = 94\n",
      "Stable nucleus with A = 285 and binding energy per nucleon: 7.005694717624511 MeV/n at Z = 95\n",
      "Stable nucleus with A = 288 and binding energy per nucleon: 6.997625155903706 MeV/n at Z = 96\n",
      "Stable nucleus with A = 291 and binding energy per nucleon: 6.9768864814463605 MeV/n at Z = 97\n",
      "Stable nucleus with A = 294 and binding energy per nucleon: 6.96854742943588 MeV/n at Z = 98\n",
      "Stable nucleus with A = 297 and binding energy per nucleon: 6.947885478304736 MeV/n at Z = 99\n",
      "Stable nucleus with A = 300 and binding energy per nucleon: 6.939292767549076 MeV/n at Z = 100\n"
     ]
    }
   ],
   "source": [
    "Z = 1\n",
    "while Z < 101:     #exludes 101\n",
    "    A = Z                                               #initially\n",
    "    nucleus = [0,0]\n",
    "    while A <= 3*Z:\n",
    "        newB = calcB(A,Z)\n",
    "        if newB > nucleus[1]:\n",
    "            nucleus[0] = A\n",
    "            nucleus[1] = newB\n",
    "        A += 1\n",
    "    print(\"Stable nucleus with A =\", nucleus[0], \"and binding energy per nucleon:\", nucleus[1]/nucleus[0], \"MeV/n at Z =\", Z)\n",
    "    Z += 1"
   ]
  },
  {
   "cell_type": "code",
   "execution_count": null,
   "id": "4b502cc4",
   "metadata": {},
   "outputs": [],
   "source": []
  }
 ],
 "metadata": {
  "kernelspec": {
   "display_name": "Python 3 (ipykernel)",
   "language": "python",
   "name": "python3"
  },
  "language_info": {
   "codemirror_mode": {
    "name": "ipython",
    "version": 3
   },
   "file_extension": ".py",
   "mimetype": "text/x-python",
   "name": "python",
   "nbconvert_exporter": "python",
   "pygments_lexer": "ipython3",
   "version": "3.9.13"
  }
 },
 "nbformat": 4,
 "nbformat_minor": 5
}
