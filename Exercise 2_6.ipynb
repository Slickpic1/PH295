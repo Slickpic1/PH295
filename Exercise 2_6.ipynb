{
 "cells": [
  {
   "cell_type": "markdown",
   "id": "ed779031",
   "metadata": {},
   "source": [
    "#### Exercise 2.6\n",
    "PH 295  \n",
    "Nick Ball  \n",
    "**Purpose:**\n",
    "Ask user to enter distance to the sun, velocity at perihelion, then calculates and prints the quantities for  \n",
    "l_2, v_2, T, and e."
   ]
  },
  {
   "cell_type": "markdown",
   "id": "2b58f7a9",
   "metadata": {},
   "source": [
    "$$ v_2 = \\frac{ \\frac{2 G M}{l_1 v_1} - \\sqrt{\\frac{2 G M}{l_1 v_1}^2 + 4 v_1^2 - \\frac{8 G M}{l_1}}}{2} $$"
   ]
  },
  {
   "cell_type": "code",
   "execution_count": 11,
   "id": "635a6c37",
   "metadata": {},
   "outputs": [],
   "source": [
    "from math import pi, sqrt"
   ]
  },
  {
   "cell_type": "code",
   "execution_count": 33,
   "id": "8602064d",
   "metadata": {},
   "outputs": [
    {
     "name": "stdout",
     "output_type": "stream",
     "text": [
      "Enter the perihelion distance in meters: 1.4710e11\n",
      "Enter the perihelion velocity in m/s: 3.0287e4\n",
      "Distance at apehelion:  152027197208.65994 m\n",
      "Velocity at apehelion:  29305.399177261268 m/s\n",
      "Orbital period:  31543060.207886923 s\n",
      "Eccentricity:  0.01647191313474219\n"
     ]
    }
   ],
   "source": [
    "#Define consts and vars\n",
    "G = 6.6738*10**-11        #m^3/kgs^2\n",
    "M = 1.9891*10**30         #kg, mass of the sun\n",
    "\n",
    "\n",
    "#DEBUG, ignore\n",
    "#l_1 = 1.471e11\n",
    "#v_1 = 3.0287e4\n",
    "\n",
    "#Ask user for l_1 and v_1\n",
    "l_1 = float(input(\"Enter the perihelion distance in meters: \"))\n",
    "v_1 = float(input(\"Enter the perihelion velocity in m/s: \"))\n",
    "\n",
    "\n",
    "#Calculate v_2, l_2,a, b, T, and e\n",
    "v_2 = 0.5*(((2*G*M)/(v_1*l_1)) - sqrt((2*G*M/(l_1*v_1))**2 + (4*v_1**2)-(8*G*M/l_1)))\n",
    "l_2 = l_1*v_1/v_2\n",
    "a = 0.5*(l_1+l_2)\n",
    "b = sqrt(l_1*l_2)\n",
    "T = 2*pi*a*b/(l_1*v_1)\n",
    "e = (l_2-l_1)/(l_2+l_1)\n",
    "\n",
    "#print output\n",
    "print(\"Distance at apehelion: \", l_2, \"m\" )\n",
    "print(\"Velocity at apehelion: \", v_2, \"m/s\")\n",
    "print(\"Orbital period: \", T, \"s\")\n",
    "print(\"Eccentricity: \", e)"
   ]
  }
 ],
 "metadata": {
  "kernelspec": {
   "display_name": "Python 3 (ipykernel)",
   "language": "python",
   "name": "python3"
  },
  "language_info": {
   "codemirror_mode": {
    "name": "ipython",
    "version": 3
   },
   "file_extension": ".py",
   "mimetype": "text/x-python",
   "name": "python",
   "nbconvert_exporter": "python",
   "pygments_lexer": "ipython3",
   "version": "3.9.13"
  }
 },
 "nbformat": 4,
 "nbformat_minor": 5
}
