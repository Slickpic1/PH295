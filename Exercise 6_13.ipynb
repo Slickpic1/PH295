{
 "cells": [
  {
   "cell_type": "markdown",
   "id": "7853164d",
   "metadata": {},
   "source": [
    "### Exercise 6.13\n",
    "PH 295  \n",
    "Nick Ball  \n",
    "**Purpose:** \n",
    "Write a program to calculate a maximum wavelength from a given temperature."
   ]
  },
  {
   "cell_type": "markdown",
   "id": "4c46c007",
   "metadata": {},
   "source": [
    "*Plank's Radiation Law:*\n",
    "$$\n",
    "I(\\lambda) = \\frac{2\\pi h c^2 \\lambda^{-5}}{e^{hc/\\lambda k_b T}-1}\n",
    "$$\n",
    "  \n",
    "*Nonlinear Eq:*\n",
    "$$\n",
    "5e^{-x}+x-5=0\n",
    "$$"
   ]
  },
  {
   "cell_type": "code",
   "execution_count": 1,
   "id": "c25a1013",
   "metadata": {},
   "outputs": [],
   "source": [
    "#import libraries\n",
    "from numpy import exp"
   ]
  },
  {
   "cell_type": "markdown",
   "id": "3144a8b2",
   "metadata": {},
   "source": [
    "b) Write a program to solve the above equation to an accuracy of $\\epsilon = 10^{-6}$ using the binary search method, and hence find a value for the displacement constant."
   ]
  },
  {
   "cell_type": "code",
   "execution_count": 8,
   "id": "a7e5c464",
   "metadata": {},
   "outputs": [
    {
     "name": "stdout",
     "output_type": "stream",
     "text": [
      "5.284077551550025\n",
      "4.898090126453207\n",
      "4.964759182651548\n",
      "4.965114672206261\n",
      "4.96511423174145\n",
      "4.965114231744276\n",
      "4.965114231744276\n",
      "λ for temperature T = 5700 K is 5.09e-07 m\n",
      "Wein's Displacement Constant is 0.0029\n"
     ]
    }
   ],
   "source": [
    "#Define constants\n",
    "h = 6.626e-34\n",
    "c = 2.9979e8\n",
    "kb = 1.38e-23\n",
    "T = 5700\n",
    "\n",
    "def f(x):\n",
    "    return 5*(exp(-x))+x-5\n",
    "\n",
    "x1 = 2\n",
    "x2 = 4\n",
    "\n",
    "error = 1\n",
    "e = 1e-14\n",
    "\n",
    "while error > e:\n",
    "    x1,x2 = x2 - f(x2)*(x2-x1)/(f(x2)-f(x1)),x1\n",
    "    error = abs(x1-x2)\n",
    "    print(x1)\n",
    "λ = h*c/x1/kb/T\n",
    "b = h*c/kb/x1\n",
    "print(f'λ for temperature T = {T} K is {λ:0.3} m')\n",
    "print(f'Wein\\'s Displacement Constant is {b:0.3}')"
   ]
  },
  {
   "cell_type": "markdown",
   "id": "46a0a81f",
   "metadata": {},
   "source": [
    "c) From the equations above and your value of the displacement constant, estimate the surface temperature of the sun."
   ]
  },
  {
   "cell_type": "code",
   "execution_count": 18,
   "id": "656f5364",
   "metadata": {},
   "outputs": [
    {
     "name": "stdout",
     "output_type": "stream",
     "text": [
      "Temperature of the surface of the sun is 5775.06 K\n"
     ]
    }
   ],
   "source": [
    "λ1 = 502e-9\n",
    "temp = b/λ1\n",
    "print(f'Temperature of the surface of the sun is {round(temp,2)} K')"
   ]
  },
  {
   "cell_type": "markdown",
   "id": "462daeff",
   "metadata": {},
   "source": [
    "*Conclusion:*\n",
    "The sun is very warm, we shouldn't go there unless it's at night. But this solution is actually very powerful and something I hope to be able to understand more in the future."
   ]
  }
 ],
 "metadata": {
  "kernelspec": {
   "display_name": "Python 3 (ipykernel)",
   "language": "python",
   "name": "python3"
  },
  "language_info": {
   "codemirror_mode": {
    "name": "ipython",
    "version": 3
   },
   "file_extension": ".py",
   "mimetype": "text/x-python",
   "name": "python",
   "nbconvert_exporter": "python",
   "pygments_lexer": "ipython3",
   "version": "3.9.13"
  }
 },
 "nbformat": 4,
 "nbformat_minor": 5
}
