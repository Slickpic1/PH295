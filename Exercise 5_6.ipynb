{
 "cells": [
  {
   "cell_type": "markdown",
   "id": "bcb197e7",
   "metadata": {},
   "source": [
    "### Exercise 5.6\n",
    "PH 295  \n",
    "Nick Ball  \n",
    "**Purpose:** \n",
    "Program that calculates the value of a given integral using the trapezoidal method with 20 slices that prints the  \n",
    "extimated error from Eq.(5.28). "
   ]
  },
  {
   "cell_type": "markdown",
   "id": "906bd0c0",
   "metadata": {},
   "source": [
    "*Integral:*\n",
    "$$\n",
    "I = \\int_{0}^{2}(x^{4}-2x+1)\n",
    "$$\n",
    "  \n",
    "*Eq. (5.28):*\n",
    "$$\n",
    "\\varepsilon_{2} = ch_{2}^{2} = \\frac{1}{3}(I_{2}-I_{1})\n",
    "$$\n",
    "  \n",
    "*Trapezoid Rule:*\n",
    "$$\n",
    "I(a,b) = h\\Bigg[\\frac{1}{2}f(a)+\\frac{1}{2}f(b)+\\sum_{k=1}^{N-1}f(a+kh)\\Bigg]\n",
    "$$"
   ]
  },
  {
   "cell_type": "code",
   "execution_count": 1,
   "id": "b60d0e1d",
   "metadata": {},
   "outputs": [
    {
     "name": "stdout",
     "output_type": "stream",
     "text": [
      "Error on second estimate: 0.0266\n",
      "Error of Direct Compuation to actual: 0.00606\n"
     ]
    }
   ],
   "source": [
    "#Define Consts\n",
    "a = 0\n",
    "b = 2\n",
    "\n",
    "#Define Function\n",
    "def f(x):\n",
    "    return x**4-2*x+1\n",
    "\n",
    "#Define Trapezoid Integration\n",
    "def trapezoid(f,N):\n",
    "    h = (b-a)/N\n",
    "    \n",
    "    I = (1/2)*(f(a)+f(b))         #calculate endpoints\n",
    "    \n",
    "    for k in range(1,N):\n",
    "        I += f(a+k*h)\n",
    "        \n",
    "    return I*h\n",
    "\n",
    "#Calculate Error\n",
    "error = (1/3)*(trapezoid(f,20)-trapezoid(f,10))\n",
    "print(f'Error on second estimate: {abs(error):.3}')\n",
    "print(f'Error of Direct Compuation to actual: {(trapezoid(f,20)-4.4)/4.4:.3}')"
   ]
  },
  {
   "cell_type": "markdown",
   "id": "990908ec",
   "metadata": {},
   "source": [
    "*Conclusion:*\n",
    "The approximation error comes out to be greater than the actual error since we are using two points to make  \n",
    "a 'guess' at what the actual error might be. This is done for integrals that may not have a closed form solution  \n",
    "such that we have no true value we can compare it to."
   ]
  }
 ],
 "metadata": {
  "kernelspec": {
   "display_name": "Python 3 (ipykernel)",
   "language": "python",
   "name": "python3"
  },
  "language_info": {
   "codemirror_mode": {
    "name": "ipython",
    "version": 3
   },
   "file_extension": ".py",
   "mimetype": "text/x-python",
   "name": "python",
   "nbconvert_exporter": "python",
   "pygments_lexer": "ipython3",
   "version": "3.9.13"
  }
 },
 "nbformat": 4,
 "nbformat_minor": 5
}
