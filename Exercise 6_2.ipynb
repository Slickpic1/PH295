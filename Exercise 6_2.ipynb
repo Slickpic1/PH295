{
 "cells": [
  {
   "cell_type": "markdown",
   "id": "fe0f085d",
   "metadata": {},
   "source": [
    "### Exercise 6.2\n",
    "PH 295  \n",
    "Nick Ball  \n",
    "**Purpose:** \n",
    "Modify the gausselim program to incorporate partial pivoting to solve a given equation."
   ]
  },
  {
   "cell_type": "markdown",
   "id": "9aacb3d0",
   "metadata": {},
   "source": [
    "*(Eq. 6.17)*\n",
    "$$\n",
    "\\begin {pmatrix} 0 &1 &4 &1 \\\\ 3 &4 &-1 &-1 \\\\ 1 &-4 &1 &5 \\\\ 2 &-2 &1 &3 \\end {pmatrix} \\begin {pmatrix} w \\\\ x \\\\ y \\\\ z \\end {pmatrix} = \\begin {pmatrix} -4 \\\\ 3 \\\\ 9 \\\\ 7 \\end {pmatrix}\n",
    "$$"
   ]
  },
  {
   "cell_type": "code",
   "execution_count": 7,
   "id": "1acea26f",
   "metadata": {},
   "outputs": [],
   "source": [
    "#Import libraries\n",
    "from numpy import array, empty"
   ]
  },
  {
   "cell_type": "code",
   "execution_count": 37,
   "id": "cec59d45",
   "metadata": {},
   "outputs": [],
   "source": [
    "#Define Gauss Elimination Function\n",
    "def gausselim(A,v):\n",
    "    N = len(v)\n",
    "    fixing = True\n",
    "    \n",
    "    #Error handle for 0 in first row\n",
    "    while fixing:\n",
    "        for m in range(N-1):\n",
    "            if abs(A[m+1,0])>abs(A[m,0]):\n",
    "                A[m+1,0],A[m,0] = A[m,0],A[m+1,0]\n",
    "                fixing = True\n",
    "            else:\n",
    "                fixing = False\n",
    "    \n",
    "    #Gaussian Method\n",
    "    for m in range(N):\n",
    "        #Divinde by the diaganol element\n",
    "        div = A[m,m]\n",
    "        A[m,:] /= div\n",
    "        v[m] /= div\n",
    "    \n",
    "        #subtract from lower rows\n",
    "        for i in range(m+1,N):\n",
    "            mult = A[i,m]\n",
    "            A[i,:] -= mult*A[m,:]\n",
    "            v[i] -= mult*v[m]\n",
    "        \n",
    "        #backsubstitute\n",
    "        x = empty(N,float)\n",
    "        for m in range(N-1,-1,-1):\n",
    "            x[m] = v[m]\n",
    "            for i in range(m+1,N):\n",
    "                x[m] -= A[m,i]*x[i]\n",
    "                \n",
    "    #Print final result        \n",
    "    print(x)"
   ]
  },
  {
   "cell_type": "code",
   "execution_count": 38,
   "id": "1440ee89",
   "metadata": {},
   "outputs": [
    {
     "name": "stdout",
     "output_type": "stream",
     "text": [
      "[-1.88888889  2.47222222 -1.30555556  4.41666667]\n"
     ]
    }
   ],
   "source": [
    "#Define Array\n",
    "A = array([[0,1,4,1],\n",
    "           [3,4,-1,-1],\n",
    "           [1,-4,1,5],\n",
    "           [2,-2,1,3]], float)\n",
    "v = array([-4,3,9,7],float)\n",
    "\n",
    "gausselim(A,v)"
   ]
  },
  {
   "cell_type": "markdown",
   "id": "fc8fb7c6",
   "metadata": {},
   "source": [
    "*Conclusion* \n",
    "That bubble algorithm almost destroyed the remainder of my braincells, and I don't even know why. I now have a headache."
   ]
  }
 ],
 "metadata": {
  "kernelspec": {
   "display_name": "Python 3 (ipykernel)",
   "language": "python",
   "name": "python3"
  },
  "language_info": {
   "codemirror_mode": {
    "name": "ipython",
    "version": 3
   },
   "file_extension": ".py",
   "mimetype": "text/x-python",
   "name": "python",
   "nbconvert_exporter": "python",
   "pygments_lexer": "ipython3",
   "version": "3.9.13"
  }
 },
 "nbformat": 4,
 "nbformat_minor": 5
}
