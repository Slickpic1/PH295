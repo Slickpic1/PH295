{
 "cells": [
  {
   "cell_type": "markdown",
   "id": "34382073",
   "metadata": {},
   "source": [
    "#### Exercise 2.1\n",
    "PH 295  \n",
    "Nick Ball  \n",
    "**Purpose:** \n",
    "Simple program that asks the user for a height h in meters and calculates and prints the time it takes\n",
    "to hit the ground."
   ]
  },
  {
   "cell_type": "markdown",
   "id": "0e2a2e3e",
   "metadata": {},
   "source": [
    "$$ t = \\sqrt{2 g h} $$"
   ]
  },
  {
   "cell_type": "code",
   "execution_count": 2,
   "id": "c8a1f67f",
   "metadata": {},
   "outputs": [],
   "source": [
    "from math import sqrt"
   ]
  },
  {
   "cell_type": "code",
   "execution_count": 3,
   "id": "f54c4226",
   "metadata": {},
   "outputs": [
    {
     "name": "stdout",
     "output_type": "stream",
     "text": [
      "Input the height of the tower in meters: 100\n",
      "t =  44.294469180700204 s\n"
     ]
    }
   ],
   "source": [
    "#Define Vars and Consts\n",
    "g = 9.81                      #m/s^2\n",
    "\n",
    "#Ask user for height of tower\n",
    "h = float(input(\"Input the height of the tower in meters: \"))\n",
    "\n",
    "#Calculate the time it takes to hit the ground\n",
    "t = sqrt(2*g*h)\n",
    "\n",
    "#Print time\n",
    "print(\"t = \", t, \"s\")"
   ]
  },
  {
   "cell_type": "code",
   "execution_count": null,
   "id": "e1f73db5",
   "metadata": {},
   "outputs": [],
   "source": []
  }
 ],
 "metadata": {
  "kernelspec": {
   "display_name": "Python 3 (ipykernel)",
   "language": "python",
   "name": "python3"
  },
  "language_info": {
   "codemirror_mode": {
    "name": "ipython",
    "version": 3
   },
   "file_extension": ".py",
   "mimetype": "text/x-python",
   "name": "python",
   "nbconvert_exporter": "python",
   "pygments_lexer": "ipython3",
   "version": "3.9.13"
  }
 },
 "nbformat": 4,
 "nbformat_minor": 5
}
