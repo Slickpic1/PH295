{
 "cells": [
  {
   "cell_type": "markdown",
   "id": "e042089a",
   "metadata": {},
   "source": [
    "### Exercise 4.3\n",
    "Ph 295  \n",
    "Nick Ball  \n",
    "**Purpose:**\n",
    "Program that calculates an approximate derivative of $x(x-1)$ with the following equation. "
   ]
  },
  {
   "cell_type": "markdown",
   "id": "4985f2b0",
   "metadata": {},
   "source": [
    "$$\n",
    "\\frac{df}{dx} = \\lim_{\\delta \\to \\inf}\\frac{f(x+\\delta) - f(x)}{\\delta}\n",
    "$$"
   ]
  },
  {
   "cell_type": "code",
   "execution_count": 1,
   "id": "c1b367da",
   "metadata": {},
   "outputs": [],
   "source": [
    "#define function\n",
    "def f(x):\n",
    "    return x*(x-1)"
   ]
  },
  {
   "cell_type": "markdown",
   "id": "fcc4ee70",
   "metadata": {},
   "source": [
    "a) Calculate the derivative of the function at x = 1 and delta = 10^-2"
   ]
  },
  {
   "cell_type": "code",
   "execution_count": 2,
   "id": "0ce46d08",
   "metadata": {},
   "outputs": [
    {
     "name": "stdout",
     "output_type": "stream",
     "text": [
      "The derivative of f(x) at x = 1 is: 1.010000000000001\n"
     ]
    }
   ],
   "source": [
    "delta = 10**-2\n",
    "x = 1\n",
    "derivative = (f(x+delta)-f(x))/delta\n",
    "print(f'The derivative of f(x) at x = {x} is: {derivative}')"
   ]
  },
  {
   "cell_type": "markdown",
   "id": "f32675ff",
   "metadata": {},
   "source": [
    "The true derivative is $\\frac{d}{dx} x(x-1) = 2x-1$, and evaluated at $x=1$ is $1$, a $1\\%$ error"
   ]
  },
  {
   "cell_type": "markdown",
   "id": "ce5d2f18",
   "metadata": {},
   "source": [
    "b) Repeat for $\\delta = 10^{-4}, 10^{-6}, 10^{-8}, 10^{-10}, 10^{-12}, and\\, 10^{-14}$"
   ]
  },
  {
   "cell_type": "code",
   "execution_count": 9,
   "id": "1dbaa5f4",
   "metadata": {},
   "outputs": [
    {
     "name": "stdout",
     "output_type": "stream",
     "text": [
      "The derivative of f(x) at x = 1 with delta = 0.0001 is: 1.0000999999998899\n",
      "The derivative of f(x) at x = 1 with delta = 1.0000000000000002e-06 is: 1.000000999917733\n",
      "The derivative of f(x) at x = 1 with delta = 1.0000000000000002e-08 is: 1.0000000039225287\n",
      "The derivative of f(x) at x = 1 with delta = 1.0000000000000002e-10 is: 1.0000000828403708\n",
      "The derivative of f(x) at x = 1 with delta = 1.0000000000000002e-12 is: 1.000088900583341\n",
      "The derivative of f(x) at x = 1 with delta = 1.0000000000000002e-14 is: 0.9992007221626507\n",
      "The derivative of f(x) at x = 1 with delta = 1.0000000000000002e-16 is: 0.0\n"
     ]
    }
   ],
   "source": [
    "delta = 10**-4\n",
    "for i in range(7):\n",
    "    derivative = (f(x+delta)-f(x))/delta\n",
    "    print(f'The derivative of f(x) at x = {x} with delta = {delta} is: {derivative}')\n",
    "    delta = delta*10**-2"
   ]
  },
  {
   "cell_type": "markdown",
   "id": "e974698c",
   "metadata": {},
   "source": [
    "**Conclusion:**\n",
    "Here we see the accuracy increase slightly before decreasing. One theory is that as we approach the machines  \n",
    "precision, the calculation starts to truncate off significant figures and loses precision, ultimately becoming 0.0 by the end."
   ]
  }
 ],
 "metadata": {
  "kernelspec": {
   "display_name": "Python 3 (ipykernel)",
   "language": "python",
   "name": "python3"
  },
  "language_info": {
   "codemirror_mode": {
    "name": "ipython",
    "version": 3
   },
   "file_extension": ".py",
   "mimetype": "text/x-python",
   "name": "python",
   "nbconvert_exporter": "python",
   "pygments_lexer": "ipython3",
   "version": "3.9.13"
  }
 },
 "nbformat": 4,
 "nbformat_minor": 5
}
