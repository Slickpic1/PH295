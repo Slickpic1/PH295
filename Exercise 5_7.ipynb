{
 "cells": [
  {
   "cell_type": "markdown",
   "id": "8ed44af8",
   "metadata": {},
   "source": [
    "### Exercise 5.7\n",
    "PH 295\n",
    "Nick Ball\n",
    "\n",
    "**Purpose:**\n",
    "Calculates a griven integral with the trapezoidal method  to an approximate accuracy of $\\varepsilon = 10^{-6}$  \n",
    "by increasing the number of slices from 1 to 2 to four, etc. Then modify it to use Romberg integration to the same  \n",
    "accuracy."
   ]
  },
  {
   "cell_type": "markdown",
   "id": "f88273e3",
   "metadata": {},
   "source": [
    "*Integral:*\n",
    "$$\n",
    "I = \\int_{0}^{1} \\sin^{2}\\sqrt{100x}\\,dx\n",
    "$$\n",
    "  \n",
    "*Romberg Method:*\n",
    "$$\n",
    "R_{i,m+1} = R_{i,m} + \\Bigg[\\frac{1}{4^{m}-1}(R_{i,m}-R_{i-1,m})\\Bigg]\n",
    "$$\n",
    "  \n",
    "*Trapezoid Rule:*\n",
    "$$\n",
    "I(a,b) = h\\Bigg[\\frac{1}{2}f(a)+\\frac{1}{2}f(b)+\\sum_{k=1}^{N-1}f(a+kh)\\Bigg]\n",
    "$$\n",
    "\n",
    "*Eq.(5.34)*\n",
    "$$\n",
    "I_{i} = \\frac{1}{2}I_{i-1}+h_{i}\\sum_{\\substack{k\\,odd \\\\ 1 \\cdots N_{i}-1}}f(a+kh_{i})\n",
    "$$\n",
    "  \n",
    "*Error:*\n",
    "$$\n",
    "\\varepsilon_{i} = \\frac{1}{3}\\big(I_{i}-I_{i-1}\\big)\n",
    "$$"
   ]
  },
  {
   "cell_type": "markdown",
   "id": "6d8d27a6",
   "metadata": {},
   "source": [
    "a) Write a program to calculate the value of the iintegral using the adaptive trapezoidal rule method and Eq. (5.34) to an approximate  \n",
    " accuracy of $\\varepsilon = 10^{-6}$ using increasing N values."
   ]
  },
  {
   "cell_type": "code",
   "execution_count": 1,
   "id": "9787a052",
   "metadata": {},
   "outputs": [],
   "source": [
    "#Import Libraries\n",
    "from numpy import sin, sqrt, zeros, copy"
   ]
  },
  {
   "cell_type": "code",
   "execution_count": 2,
   "id": "82e80345",
   "metadata": {},
   "outputs": [],
   "source": [
    "#Define Functions\n",
    "def f(x):\n",
    "    return sin(sqrt(100*x))**2\n",
    "\n",
    "def trap(f,N):\n",
    "    h = (b-a)/N\n",
    "    val = (1/2)*(f(a)+f(b))\n",
    "    for k in range(1,N):\n",
    "        val += f(a+k*h)\n",
    "    return val*h\n",
    "\n",
    "def adaptrap(trap,f):\n",
    "    N = 1           #Starting number of slices\n",
    "    error = 1       #total error\n",
    "    \n",
    "    #run through first calc to get error\n",
    "    I_old = trap(f,N)\n",
    "    while error > threshold:\n",
    "        h = (b-a)/N               #might need to combine to avoid with trap overusing\n",
    "        \n",
    "        #reset I_new\n",
    "        I_new = 0\n",
    "        \n",
    "        #calculate sum\n",
    "        for k in range(1,N,2):\n",
    "            I_new += f(a+k*h)\n",
    "        I_new = I_new * h + (1/2)*I_old\n",
    "        \n",
    "        #update error, I_old, and N for new loop\n",
    "        error = abs(I_new-I_old)*(1/3)\n",
    "        I_old = I_new\n",
    "        N = N*2\n",
    "    return I_new,error,N"
   ]
  },
  {
   "cell_type": "code",
   "execution_count": 3,
   "id": "1bbcf568",
   "metadata": {},
   "outputs": [
    {
     "name": "stdout",
     "output_type": "stream",
     "text": [
      "Estimate, Error, and Number of Slices respictively:\n",
      "(0.4558302669145925, 7.600693307704038e-07, 65536)\n"
     ]
    }
   ],
   "source": [
    "a = 0\n",
    "b = 1\n",
    "threshold = 1e-6\n",
    "print(f'Estimate, Error, and Number of Slices respictively:')\n",
    "print(adaptrap(trap,f))"
   ]
  },
  {
   "cell_type": "markdown",
   "id": "b99cccff",
   "metadata": {},
   "source": [
    "b) Modify the program to evaluate the same integral using Romberg Integration as well as print out a triangular  \n",
    "table of value of all the estimates (see the fig on pg. 161)."
   ]
  },
  {
   "cell_type": "code",
   "execution_count": 32,
   "id": "084be083",
   "metadata": {},
   "outputs": [
    {
     "name": "stdout",
     "output_type": "stream",
     "text": [
      "[0.147979484546652]\n",
      "[0.3252319078064746, 0.38431604889308213]\n",
      "[0.43079757183944845, 0.4659861265171064, 0.47143079835870805]\n",
      "[0.5122828507233315, 0.5394446103512924, 0.5443418426069049, 0.5454991607695747]\n",
      "[0.45902066640404515, 0.44126660496428305, 0.4347214046051491, 0.43298139765274024, 0.4325401515228703]\n",
      "[0.42216668286887116, 0.4098820216904798, 0.4077897161388929, 0.40736222902038094, 0.4072617616924109, 0.4072370516339256]\n",
      "[0.4067588542747065, 0.4016229114099849, 0.4010723040579519, 0.40096567846936554, 0.4009405939574008, 0.40093441490780646, 0.40093287580237885]\n",
      "[0.40299744847824825, 0.4017436465460955, 0.40175169555516954, 0.40176247954718886, 0.40176560425729796, 0.40176641071897917, 0.4017666138925594, 0.4017666647830001]\n",
      "Final Error of: 2.0359904522113749e-07\n"
     ]
    }
   ],
   "source": [
    "R = []            #list of current values\n",
    "error = 1\n",
    "def Romberg(trap,f,i,R0): \n",
    "    #calculate Trap approx for current i\n",
    "    R.append(trap(f,i))\n",
    "    \n",
    "    #Check if first iteration\n",
    "    i = int(i)\n",
    "    if i == 1:\n",
    "        #copy current list to old\n",
    "        R0 = R.copy()               #maybe......\n",
    "        R.clear()\n",
    "        return R0, 1\n",
    "    else:\n",
    "        for m in range(i-1): \n",
    "            R.append(R[m] + (1/(4**(m+1)-1))*(R[m]-R0[m]))\n",
    "            \n",
    "        #calculate error for penultimate postion\n",
    "        if i == 2:\n",
    "            error = 1\n",
    "        else:\n",
    "            error = abs((R[i-2]-R0[i-2])/(4**(i-2)-1))  #need err handling for i = 2\n",
    "        \n",
    "        R0.clear()     #Clear old after it's been used\n",
    "        R0 = R.copy()  #copy new into old\n",
    "        R.clear()      #clear function to be used next iteration\n",
    "        return R0, error\n",
    "\n",
    "#Print Romberg Triangle while error is higher than allowed\n",
    "i = 1\n",
    "N = 100\n",
    "R0 = []\n",
    "errMax = 1e-6\n",
    "while error >errMax:\n",
    "    R0,error = Romberg(trap,f,i,R0)\n",
    "    print(R0)\n",
    "    i +=1 \n",
    "    \n",
    "print(f'Final Error of: {error}')"
   ]
  },
  {
   "cell_type": "markdown",
   "id": "54474f09",
   "metadata": {},
   "source": [
    "*Conclusion:*\n",
    "Romberg integration is very fast, but this took forever to code it the way I wanted. Cool otherwise."
   ]
  }
 ],
 "metadata": {
  "kernelspec": {
   "display_name": "Python 3 (ipykernel)",
   "language": "python",
   "name": "python3"
  },
  "language_info": {
   "codemirror_mode": {
    "name": "ipython",
    "version": 3
   },
   "file_extension": ".py",
   "mimetype": "text/x-python",
   "name": "python",
   "nbconvert_exporter": "python",
   "pygments_lexer": "ipython3",
   "version": "3.9.13"
  }
 },
 "nbformat": 4,
 "nbformat_minor": 5
}
